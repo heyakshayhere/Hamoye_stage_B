{
 "cells": [
  {
   "cell_type": "markdown",
   "metadata": {},
   "source": [
    "importing libraries"
   ]
  },
  {
   "cell_type": "code",
   "execution_count": 4,
   "metadata": {
    "ExecuteTime": {
     "end_time": "2022-02-08T06:30:03.562280Z",
     "start_time": "2022-02-08T06:30:03.545325Z"
    },
    "executionInfo": {
     "elapsed": 1572,
     "status": "ok",
     "timestamp": 1644133720930,
     "user": {
      "displayName": "Akshay Satpute",
      "photoUrl": "https://lh3.googleusercontent.com/a-/AOh14Gh5QSEPdE3g8qkRGFr7kBaxRt-o_WDDGoT9ZGYn=s64",
      "userId": "17916516982417332487"
     },
     "user_tz": -330
    },
    "id": "0YQ6IeWAiUrJ"
   },
   "outputs": [
    {
     "ename": "ModuleNotFoundError",
     "evalue": "No module named 'plotly'",
     "output_type": "error",
     "traceback": [
      "\u001b[1;31m---------------------------------------------------------------------------\u001b[0m",
      "\u001b[1;31mModuleNotFoundError\u001b[0m                       Traceback (most recent call last)",
      "\u001b[1;32m~\\AppData\\Local\\Temp/ipykernel_8080/1726336594.py\u001b[0m in \u001b[0;36m<module>\u001b[1;34m\u001b[0m\n\u001b[0;32m      4\u001b[0m \u001b[1;32mimport\u001b[0m \u001b[0mcalendar\u001b[0m\u001b[1;33m\u001b[0m\u001b[1;33m\u001b[0m\u001b[0m\n\u001b[0;32m      5\u001b[0m \u001b[1;32mimport\u001b[0m \u001b[0mmatplotlib\u001b[0m\u001b[1;33m.\u001b[0m\u001b[0mpyplot\u001b[0m \u001b[1;32mas\u001b[0m \u001b[0mplt\u001b[0m\u001b[1;33m\u001b[0m\u001b[1;33m\u001b[0m\u001b[0m\n\u001b[1;32m----> 6\u001b[1;33m \u001b[1;32mimport\u001b[0m \u001b[0mplotly\u001b[0m\u001b[1;33m.\u001b[0m\u001b[0mexpress\u001b[0m \u001b[1;32mas\u001b[0m \u001b[0mpx\u001b[0m\u001b[1;33m\u001b[0m\u001b[1;33m\u001b[0m\u001b[0m\n\u001b[0m\u001b[0;32m      7\u001b[0m \u001b[1;32mimport\u001b[0m \u001b[0mplotly\u001b[0m\u001b[1;33m.\u001b[0m\u001b[0mgraph_objects\u001b[0m \u001b[1;32mas\u001b[0m \u001b[0mgo\u001b[0m\u001b[1;33m\u001b[0m\u001b[1;33m\u001b[0m\u001b[0m\n\u001b[0;32m      8\u001b[0m \u001b[1;32mfrom\u001b[0m \u001b[0mwordcloud\u001b[0m \u001b[1;32mimport\u001b[0m \u001b[0mWordCloud\u001b[0m\u001b[1;33m,\u001b[0m \u001b[0mSTOPWORDS\u001b[0m\u001b[1;33m\u001b[0m\u001b[1;33m\u001b[0m\u001b[0m\n",
      "\u001b[1;31mModuleNotFoundError\u001b[0m: No module named 'plotly'"
     ]
    }
   ],
   "source": [
    "import pandas as pd\n",
    "import numpy as np\n",
    "import seaborn as sns\n",
    "import calendar\n",
    "import matplotlib.pyplot as plt\n",
    "import plotly.express as px\n",
    "import plotly.graph_objects as go\n",
    "from wordcloud import WordCloud, STOPWORDS\n",
    "\n",
    "%autosave 1"
   ]
  },
  {
   "cell_type": "code",
   "execution_count": null,
   "metadata": {
    "ExecuteTime": {
     "end_time": "2022-02-08T06:30:06.679755Z",
     "start_time": "2022-02-08T06:30:03.564238Z"
    }
   },
   "outputs": [],
   "source": [
    "data_1 = pd.read_csv(\"data_1.csv\")\n",
    "data_2 = pd.read_csv(\"data_2.csv\")\n",
    "df = pd.concat([data_1, data_2])\n",
    "df"
   ]
  },
  {
   "cell_type": "markdown",
   "metadata": {},
   "source": [
    "I have found that there is a missing row in the data \n",
    "\n",
    "to fix this row in the dataset\n",
    "\n",
    "According to the author of this dataset, one particular incident is missing from the dataset\n",
    "\n",
    "I have manually added this incident [read here](https://www.kaggle.com/jameslko/gun-violence-data/discussion/55307)"
   ]
  },
  {
   "cell_type": "code",
   "execution_count": null,
   "metadata": {
    "ExecuteTime": {
     "end_time": "2022-02-08T06:30:06.805423Z",
     "start_time": "2022-02-08T06:30:06.681725Z"
    },
    "id": "8Nbb_Mtb8Aal"
   },
   "outputs": [],
   "source": [
    "missing_row = [\n",
    "    'sban_1', '2017-10-01', 'Nevada', 'Las Vegas', 'Mandalay Bay 3950 Blvd S',\n",
    "    59, 489, 'https://en.wikipedia.org/wiki/2017_Las_Vegas_shooting',\n",
    "    'https://en.wikipedia.org/wiki/2017_Las_Vegas_shooting', '-', '-', '-',\n",
    "    '-', '-', '36.095', 'Hotel', '-115.171667', 47,\n",
    "    'Route 91 Harvest Festiva; concert, open fire from 32nd floor. 47 guns seized; TOTAL:59 kill, 489 inj, number shot TBD,girlfriend Marilou Danley POI',\n",
    "    '-', '-', '-', '-', '-', '-', '-', '-', '-', '-'\n",
    "]\n",
    "df.loc[len(df)] = missing_row"
   ]
  },
  {
   "cell_type": "code",
   "execution_count": null,
   "metadata": {
    "ExecuteTime": {
     "end_time": "2022-02-08T06:30:07.884663Z",
     "start_time": "2022-02-08T06:30:06.807383Z"
    },
    "id": "0YRTVd8O8Aam"
   },
   "outputs": [],
   "source": [
    "df['date'] = pd.to_datetime(df['date'])\n",
    "df['year'] = df['date'].dt.year\n",
    "df['month'] = df['date'].dt.month.apply(lambda x: calendar.month_abbr[x])\n",
    "df['monthday'] = df['date'].dt.day\n",
    "df['weekday'] = df['date'].dt.day_name()\n",
    "df['violence'] = df['n_killed'] + df['n_injured']"
   ]
  },
  {
   "cell_type": "code",
   "execution_count": null,
   "metadata": {
    "ExecuteTime": {
     "end_time": "2022-02-08T06:30:08.151202Z",
     "start_time": "2022-02-08T06:30:07.884663Z"
    },
    "id": "A__-_UxT8Aam"
   },
   "outputs": [],
   "source": [
    "df"
   ]
  },
  {
   "cell_type": "code",
   "execution_count": null,
   "metadata": {
    "ExecuteTime": {
     "end_time": "2022-02-08T06:30:08.166979Z",
     "start_time": "2022-02-08T06:30:08.152164Z"
    },
    "id": "_GjddSLK8Aam"
   },
   "outputs": [],
   "source": [
    "df.columns"
   ]
  },
  {
   "cell_type": "markdown",
   "metadata": {
    "ExecuteTime": {
     "end_time": "2022-02-06T16:08:51.333402Z",
     "start_time": "2022-02-06T16:08:51.321434Z"
    },
    "id": "Pz1Xp7l-8Aan"
   },
   "source": [
    "**Number of gun violence per year**"
   ]
  },
  {
   "cell_type": "code",
   "execution_count": null,
   "metadata": {
    "ExecuteTime": {
     "end_time": "2022-02-08T06:31:05.460846Z",
     "start_time": "2022-02-08T06:31:05.352762Z"
    }
   },
   "outputs": [],
   "source": [
    "def create_stack_bar_data(col):\n",
    "    aggregated = df[col].value_counts()\n",
    "    x_values = aggregated.index.tolist()\n",
    "    y_values = aggregated.values.tolist()\n",
    "    return x_values, y_values\n",
    "\n",
    "\n",
    "x1, y1 = create_stack_bar_data('year')\n",
    "x1 = x1[:-1]\n",
    "y1 = y1[:-1]\n",
    "\n",
    "sns.barplot(x=x1, y=y1, data=df);"
   ]
  },
  {
   "cell_type": "markdown",
   "metadata": {},
   "source": [
    "### **Incidents per month**"
   ]
  },
  {
   "cell_type": "markdown",
   "metadata": {},
   "source": [
    "**Incidents per month for every year**"
   ]
  },
  {
   "cell_type": "code",
   "execution_count": null,
   "metadata": {
    "ExecuteTime": {
     "end_time": "2022-02-08T06:30:08.668575Z",
     "start_time": "2022-02-08T06:30:08.276987Z"
    },
    "scrolled": false
   },
   "outputs": [],
   "source": [
    "yearly = df.groupby(['year', 'month']).aggregate({\n",
    "    'month': 'count',\n",
    "}).rename(columns={\n",
    "    'month': 'month_count'\n",
    "}).reset_index()\n",
    "\n",
    "year_2013 = yearly[yearly['year'] == 2013]\n",
    "year_2014 = yearly[yearly['year'] == 2014]\n",
    "year_2015 = yearly[yearly['year'] == 2015]\n",
    "year_2016 = yearly[yearly['year'] == 2016]\n",
    "year_2017 = yearly[yearly['year'] == 2017]\n",
    "year_2018 = yearly[yearly['year'] == 2018]\n",
    "\n",
    "year_2013 = year_2013[['month', 'month_count'\n",
    "                       ]].set_index('month').sort_values('month_count')\n",
    "fig = px.bar(year_2013.reset_index(),\n",
    "             y='month',\n",
    "             x='month_count',\n",
    "             text=round(year_2013['month_count'], 2),\n",
    "             color='month_count',\n",
    "             title='year 2013')\n",
    "fig.update_traces(texttemplate='%{text:.2s}', textposition='outside')\n",
    "fig.update_layout(uniformtext_minsize=8, uniformtext_mode='hide')\n",
    "fig.show()\n",
    "\n",
    "year_2014 = year_2014[['month', 'month_count'\n",
    "                       ]].set_index('month').sort_values('month_count')\n",
    "fig = px.bar(year_2014.reset_index(),\n",
    "             y='month',\n",
    "             x='month_count',\n",
    "             text=round(year_2014['month_count'], 2),\n",
    "             color='month_count',\n",
    "             title='year 2014')\n",
    "fig.update_traces(texttemplate='%{text:.2s}', textposition='outside')\n",
    "fig.update_layout(uniformtext_minsize=8, uniformtext_mode='hide')\n",
    "fig.show()\n",
    "\n",
    "year_2015 = year_2015[['month', 'month_count'\n",
    "                       ]].set_index('month').sort_values('month_count')\n",
    "fig = px.bar(year_2015.reset_index(),\n",
    "             y='month',\n",
    "             x='month_count',\n",
    "             text=round(year_2015['month_count'], 2),\n",
    "             color='month_count',\n",
    "             title='year 2015')\n",
    "fig.update_traces(texttemplate='%{text:.2s}', textposition='outside')\n",
    "fig.update_layout(uniformtext_minsize=8, uniformtext_mode='hide')\n",
    "fig.show()\n",
    "\n",
    "year_2016 = year_2016[['month', 'month_count'\n",
    "                       ]].set_index('month').sort_values('month_count')\n",
    "fig = px.bar(year_2016.reset_index(),\n",
    "             y='month',\n",
    "             x='month_count',\n",
    "             text=round(year_2016['month_count'], 2),\n",
    "             color='month_count',\n",
    "             title='year 2016')\n",
    "fig.update_traces(texttemplate='%{text:.2s}', textposition='outside')\n",
    "fig.update_layout(uniformtext_minsize=8, uniformtext_mode='hide')\n",
    "fig.show()\n",
    "\n",
    "year_2017 = year_2017[['month', 'month_count'\n",
    "                       ]].set_index('month').sort_values('month_count')\n",
    "fig = px.bar(year_2017.reset_index(),\n",
    "             y='month',\n",
    "             x='month_count',\n",
    "             text=round(year_2017['month_count'], 2),\n",
    "             color='month_count',\n",
    "             title='year 2017')\n",
    "fig.update_traces(texttemplate='%{text:.2s}', textposition='outside')\n",
    "fig.update_layout(uniformtext_minsize=8, uniformtext_mode='hide')\n",
    "fig.show()\n",
    "\n",
    "year_2018 = year_2018[['month', 'month_count'\n",
    "                       ]].set_index('month').sort_values('month_count')\n",
    "fig = px.bar(year_2018.reset_index(),\n",
    "             y='month',\n",
    "             x='month_count',\n",
    "             text=round(year_2018['month_count'], 2),\n",
    "             color='month_count',\n",
    "             title='year 2018')\n",
    "fig.update_traces(texttemplate='%{text:.2s}', textposition='outside')\n",
    "fig.update_layout(uniformtext_minsize=8, uniformtext_mode='hide')\n",
    "fig.show()"
   ]
  },
  {
   "cell_type": "markdown",
   "metadata": {},
   "source": [
    "**Average Incisents per year**"
   ]
  },
  {
   "cell_type": "code",
   "execution_count": null,
   "metadata": {
    "ExecuteTime": {
     "end_time": "2022-02-08T06:30:08.748361Z",
     "start_time": "2022-02-08T06:30:08.669573Z"
    }
   },
   "outputs": [],
   "source": [
    "pivote_year = pd.pivot_table(\n",
    "    yearly, index='month', values='month_count',\n",
    "    aggfunc='mean').sort_values('month_count').reset_index()\n",
    "\n",
    "fig = px.bar(pivote_year,\n",
    "             y='month',\n",
    "             x='month_count',\n",
    "             text=round(pivote_year['month_count'], 2),\n",
    "             color='month_count',\n",
    "             title='Average incidents per year')\n",
    "fig.update_traces(texttemplate='%{text:.2s}', textposition='outside')\n",
    "fig.update_layout(uniformtext_minsize=8, uniformtext_mode='hide')\n",
    "fig.show()"
   ]
  },
  {
   "cell_type": "markdown",
   "metadata": {},
   "source": [
    "**Average number of gun violence per week**"
   ]
  },
  {
   "cell_type": "code",
   "execution_count": null,
   "metadata": {
    "ExecuteTime": {
     "end_time": "2022-02-08T06:30:52.160647Z",
     "start_time": "2022-02-08T06:30:52.001095Z"
    }
   },
   "outputs": [],
   "source": [
    "tempdf1 = df.groupby(['year', 'weekday']).agg({\n",
    "    'weekday': 'count'\n",
    "}).rename(columns={\n",
    "    'weekday': 'weekday_count'\n",
    "}).reset_index()\n",
    "aggregated = tempdf1.groupby(['weekday']).agg({'weekday_count': 'mean'})\n",
    "\n",
    "x2 = aggregated.index.tolist()\n",
    "y2 = aggregated.weekday_count.tolist()\n",
    "\n",
    "wkmp = {}\n",
    "for j, x in enumerate(x2):\n",
    "    wkmp[x] = y2[j]\n",
    "\n",
    "sns.barplot(x=x2, y=y2, data=df);"
   ]
  },
  {
   "cell_type": "markdown",
   "metadata": {},
   "source": [
    "**number of incidents by every state**"
   ]
  },
  {
   "cell_type": "code",
   "execution_count": null,
   "metadata": {
    "ExecuteTime": {
     "end_time": "2022-02-08T06:30:48.748823Z",
     "start_time": "2022-02-08T06:30:48.097144Z"
    }
   },
   "outputs": [],
   "source": [
    "states_df = df['state'].value_counts()\n",
    "statesdf = pd.DataFrame()\n",
    "statesdf['state'] = states_df.index\n",
    "statesdf['counts'] = states_df.values\n",
    "num_incidents_evey_state = pd.DataFrame(data=statesdf['counts'])\n",
    "num_incidents_evey_state.set_index(statesdf['state'], inplace=True)\n",
    "plt.figure(figsize=(15, 12))\n",
    "sns.barplot(x=statesdf['counts'], y=statesdf['state']);"
   ]
  },
  {
   "cell_type": "markdown",
   "metadata": {},
   "source": [
    "**Incident happend vs violence level**"
   ]
  },
  {
   "cell_type": "code",
   "execution_count": null,
   "metadata": {
    "ExecuteTime": {
     "end_time": "2022-02-08T06:30:43.549363Z",
     "start_time": "2022-02-08T06:30:42.515588Z"
    }
   },
   "outputs": [],
   "source": [
    "statdf = df.reset_index().groupby(by=['state']).agg({\n",
    "    'violence': 'sum',\n",
    "    'year': 'count'\n",
    "}).rename(columns={'year': 'count'})\n",
    "statdf['state'] = statdf.index\n",
    "statdf.sort_values('count', ascending=False, inplace=True)\n",
    "statdf.plot(kind='bar', figsize=(20, 10));"
   ]
  },
  {
   "cell_type": "markdown",
   "metadata": {},
   "source": [
    "**Incidents per 100k by state**"
   ]
  },
  {
   "cell_type": "code",
   "execution_count": null,
   "metadata": {
    "ExecuteTime": {
     "end_time": "2022-02-08T06:30:37.189177Z",
     "start_time": "2022-02-08T06:30:36.561657Z"
    }
   },
   "outputs": [],
   "source": [
    "census_2013 = {\n",
    "    'Mississippi': 2991207,\n",
    "    'Iowa': 3090416,\n",
    "    'Oklahoma': 3850568,\n",
    "    'Delaware': 925749,\n",
    "    'Minnesota': 5420380,\n",
    "    'Alaska': 735132,\n",
    "    'Illinois': 12882135,\n",
    "    'Arkansas': 2959373,\n",
    "    'New Mexico': 2085287,\n",
    "    'Indiana': 6570902,\n",
    "    'Maryland': 5928814,\n",
    "    'Louisiana': 4625470,\n",
    "    'Texas': 26448193,\n",
    "    'Wyoming': 582658,\n",
    "    'Arizona': 6626624,\n",
    "    'Wisconsin': 5742713,\n",
    "    'Michigan': 9895622,\n",
    "    'Kansas': 2893957,\n",
    "    'Utah': 2900872,\n",
    "    'Virginia': 8260405,\n",
    "    'Oregon': 3930065,\n",
    "    'Connecticut': 3596080,\n",
    "    'New York': 19651127,\n",
    "    'California': 38332521,\n",
    "    'Massachusetts': 6692824,\n",
    "    'West Virginia': 1854304,\n",
    "    'South Carolina': 4774839,\n",
    "    'New Hampshire': 1323459,\n",
    "    'Vermont': 626630,\n",
    "    'Georgia': 9992167,\n",
    "    'North Dakota': 723393,\n",
    "    'Pennsylvania': 12773801,\n",
    "    'Florida': 19552860,\n",
    "    'Hawaii': 1404054,\n",
    "    'Kentucky': 4395295,\n",
    "    'Rhode Island': 1051511,\n",
    "    'Nebraska': 1868516,\n",
    "    'Missouri': 6044171,\n",
    "    'Ohio': 11570808,\n",
    "    'Alabama': 4833722,\n",
    "    'South Dakota': 844877,\n",
    "    'Colorado': 5268367,\n",
    "    'Idaho': 1612136,\n",
    "    'New Jersey': 8899339,\n",
    "    'Washington': 6971406,\n",
    "    'North Carolina': 9848060,\n",
    "    'Tennessee': 6495978,\n",
    "    'Montana': 1015165,\n",
    "    'District of Columbia': 646449,\n",
    "    'Nevada': 2790136,\n",
    "    'Maine': 1328302\n",
    "}\n",
    "statesdf['population'] = statesdf['state'].apply(lambda x: census_2013[x])\n",
    "statesdf['incidents_per_k'] = statesdf.apply(\n",
    "    lambda x: float(x['counts']) * 100000 / x['population'], axis=1)\n",
    "tempdf = statesdf.sort_values('incidents_per_k', ascending=False)\n",
    "tempdf.set_index('state', inplace=True)\n",
    "tempdf.sort_values('incidents_per_k', ascending=False, inplace=True)\n",
    "tempdf['incidents_per_k'].plot(kind='bar', figsize=(20, 10), color='red');"
   ]
  },
  {
   "cell_type": "markdown",
   "metadata": {},
   "source": [
    "**Common Areas of Gun Violence Incidents**"
   ]
  },
  {
   "cell_type": "code",
   "execution_count": null,
   "metadata": {
    "ExecuteTime": {
     "end_time": "2022-02-08T06:30:28.303399Z",
     "start_time": "2022-02-08T06:30:26.881345Z"
    }
   },
   "outputs": [],
   "source": [
    "txt = \" \".join(df['location_description'].dropna())\n",
    "wc = WordCloud(max_font_size=50,\n",
    "               max_words=1000,\n",
    "               stopwords=STOPWORDS,\n",
    "               background_color='White').generate(txt)\n",
    "plt.figure(figsize=(10, 20))\n",
    "plt.imshow(wc)\n",
    "plt.axis('off');"
   ]
  },
  {
   "cell_type": "code",
   "execution_count": null,
   "metadata": {},
   "outputs": [],
   "source": []
  },
  {
   "cell_type": "code",
   "execution_count": null,
   "metadata": {},
   "outputs": [],
   "source": []
  },
  {
   "cell_type": "code",
   "execution_count": null,
   "metadata": {},
   "outputs": [],
   "source": []
  },
  {
   "cell_type": "markdown",
   "metadata": {},
   "source": [
    "**Contributor: Ibukun Ekunwe**\n",
    "\n",
    "**Task: Number of guns used in incidents**"
   ]
  },
  {
   "cell_type": "code",
   "execution_count": 2,
   "metadata": {},
   "outputs": [],
   "source": [
    "import numpy as np\n",
    "import pandas as pd\n",
    "import matplotlib.pyplot as plt"
   ]
  },
  {
   "cell_type": "code",
   "execution_count": null,
   "metadata": {},
   "outputs": [],
   "source": [
    "\n",
    "\n",
    "df.columns\n"
   ]
  },
  {
   "cell_type": "code",
   "execution_count": 1,
   "metadata": {},
   "outputs": [
    {
     "name": "stdout",
     "output_type": "stream",
     "text": [
      "^C\n",
      "\n",
      "Note: you may need to restart the kernel to use updated packages.\n"
     ]
    }
   ],
   "source": []
  },
  {
   "cell_type": "code",
   "execution_count": null,
   "metadata": {},
   "outputs": [],
   "source": []
  },
  {
   "cell_type": "code",
   "execution_count": null,
   "metadata": {},
   "outputs": [],
   "source": []
  },
  {
   "cell_type": "code",
   "execution_count": null,
   "metadata": {},
   "outputs": [],
   "source": []
  }
 ],
 "metadata": {
  "colab": {
   "collapsed_sections": [],
   "name": "GunViolenceData.ipynb",
   "provenance": []
  },
  "kernelspec": {
   "display_name": "Python 3 (ipykernel)",
   "language": "python",
   "name": "python3"
  },
  "language_info": {
   "codemirror_mode": {
    "name": "ipython",
    "version": 3
   },
   "file_extension": ".py",
   "mimetype": "text/x-python",
   "name": "python",
   "nbconvert_exporter": "python",
   "pygments_lexer": "ipython3",
   "version": "3.9.7"
  }
 },
 "nbformat": 4,
 "nbformat_minor": 1
}
