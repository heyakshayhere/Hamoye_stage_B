{
  "cells": [
    {
      "cell_type": "markdown",
      "metadata": {
        "id": "view-in-github",
        "colab_type": "text"
      },
      "source": [
        "<a href=\"https://colab.research.google.com/github/khayk5ay/Hamoye_stage_B/blob/main/GunViolenceData.ipynb\" target=\"_parent\"><img src=\"https://colab.research.google.com/assets/colab-badge.svg\" alt=\"Open In Colab\"/></a>"
      ]
    },
    {
      "cell_type": "markdown",
      "metadata": {
        "id": "YDRZQrYCfzAL"
      },
      "source": [
        "**PP22/C624**\n",
        "\n",
        "**Scope:** Crime Population\n",
        "\n",
        "**Topic:** Gun Violence\n",
        "\n",
        "**Project Description:**\n",
        "The rise in lack of profitable employment world-wide among many other things has catalyzed the bane of gun violence amidst young people. A comprehensive data that has been compiled from 2013- 2018 guarantees some insight into this problem."
      ]
    },
    {
      "cell_type": "markdown",
      "metadata": {
        "id": "y7A0AG_KfzAb"
      },
      "source": [
        "<hr>"
      ]
    },
    {
      "cell_type": "markdown",
      "metadata": {
        "id": "pkTfk3mHfzAd"
      },
      "source": [
        "Importing libraries"
      ]
    },
    {
      "cell_type": "code",
      "execution_count": null,
      "metadata": {
        "ExecuteTime": {
          "end_time": "2022-02-18T13:41:26.479463Z",
          "start_time": "2022-02-18T13:41:23.996460Z"
        },
        "id": "0YQ6IeWAiUrJ"
      },
      "outputs": [],
      "source": [
        "import pandas as pd\n",
        "import numpy as np\n",
        "import seaborn as sns\n",
        "import calendar\n",
        "import matplotlib.pyplot as plt\n",
        "import plotly.express as px\n",
        "import plotly.graph_objects as go\n",
        "from wordcloud import WordCloud, STOPWORDS, ImageColorGenerator\n",
        "from PIL import Image\n",
        "import folium\n",
        "from folium import plugins\n",
        "\n",
        "%autosave 1"
      ]
    },
    {
      "cell_type": "markdown",
      "metadata": {
        "id": "skZ1FwKxfzAn"
      },
      "source": [
        "Importing the dataset"
      ]
    },
    {
      "cell_type": "code",
      "execution_count": null,
      "metadata": {
        "ExecuteTime": {
          "end_time": "2022-02-18T13:41:29.043816Z",
          "start_time": "2022-02-18T13:41:26.481083Z"
        },
        "id": "HymG10xOfzAq"
      },
      "outputs": [],
      "source": [
        "data_1 = pd.read_csv(\"data_1.csv\")\n",
        "data_2 = pd.read_csv(\"data_2.csv\")\n",
        "df = pd.concat([data_1, data_2])\n",
        "df"
      ]
    },
    {
      "cell_type": "markdown",
      "metadata": {
        "id": "4ZfHPhOVfzAr"
      },
      "source": [
        "I have found that there is a missing row in the data \n",
        "\n",
        "to fix this row in the dataset\n",
        "\n",
        "According to the author of this dataset, one particular incident is missing from the dataset\n",
        "\n",
        "I have manually added this incident [read here](https://www.kaggle.com/jameslko/gun-violence-data/discussion/55307)"
      ]
    },
    {
      "cell_type": "code",
      "execution_count": null,
      "metadata": {
        "ExecuteTime": {
          "end_time": "2022-02-18T13:41:29.352160Z",
          "start_time": "2022-02-18T13:41:29.045484Z"
        },
        "id": "8Nbb_Mtb8Aal"
      },
      "outputs": [],
      "source": [
        "missing_row = [\n",
        "    'sban_1', '2017-10-01', 'Nevada', 'Las Vegas', 'Mandalay Bay 3950 Blvd S',\n",
        "    59, 489, 'https://en.wikipedia.org/wiki/2017_Las_Vegas_shooting',\n",
        "    'https://en.wikipedia.org/wiki/2017_Las_Vegas_shooting', '-', '-', '-',\n",
        "    '-', '-', '36.095', 'Hotel', '-115.171667', 47,\n",
        "    'Route 91 Harvest Festiva; concert, open fire from 32nd floor. 47 guns seized; TOTAL:59 kill, 489 inj, number shot TBD,girlfriend Marilou Danley POI',\n",
        "    '-', '-', '-', '-', '-', '-', '-', '-', '-', '-'\n",
        "]\n",
        "df.loc[len(df)] = missing_row"
      ]
    },
    {
      "cell_type": "code",
      "execution_count": null,
      "metadata": {
        "ExecuteTime": {
          "end_time": "2022-02-18T13:41:29.677817Z",
          "start_time": "2022-02-18T13:41:29.352160Z"
        },
        "id": "JAuwWRSrfzAw"
      },
      "outputs": [],
      "source": [
        "df.info()"
      ]
    },
    {
      "cell_type": "markdown",
      "metadata": {
        "id": "CvVXltKhfzAz"
      },
      "source": [
        "Here we found that the dates are not in the type of pandas datetype"
      ]
    },
    {
      "cell_type": "code",
      "execution_count": null,
      "metadata": {
        "ExecuteTime": {
          "end_time": "2022-02-18T13:41:30.745982Z",
          "start_time": "2022-02-18T13:41:29.678815Z"
        },
        "id": "0YRTVd8O8Aam"
      },
      "outputs": [],
      "source": [
        "df['date'] = pd.to_datetime(df['date'])\n",
        "df['year'] = df['date'].dt.year\n",
        "df['month'] = df['date'].dt.month.apply(lambda x: calendar.month_abbr[x])\n",
        "df['monthday'] = df['date'].dt.day\n",
        "df['weekday'] = df['date'].dt.day_name()\n",
        "df['violence'] = df['n_killed'] + df['n_injured']"
      ]
    },
    {
      "cell_type": "markdown",
      "metadata": {
        "id": "wyBS5EQjfzA3"
      },
      "source": [
        "I have combined number of people killed and number of injuries happend so that we will get the total number of count as a violence"
      ]
    },
    {
      "cell_type": "markdown",
      "metadata": {
        "id": "JoB7pud2fzA4"
      },
      "source": [
        "now let's take a look at our data"
      ]
    },
    {
      "cell_type": "code",
      "execution_count": null,
      "metadata": {
        "ExecuteTime": {
          "end_time": "2022-02-18T13:41:31.136235Z",
          "start_time": "2022-02-18T13:41:30.746872Z"
        },
        "id": "A__-_UxT8Aam"
      },
      "outputs": [],
      "source": [
        "df"
      ]
    },
    {
      "cell_type": "markdown",
      "metadata": {
        "id": "9MSNMtRGfzA7"
      },
      "source": [
        "we have 30+ columns"
      ]
    },
    {
      "cell_type": "code",
      "execution_count": null,
      "metadata": {
        "ExecuteTime": {
          "end_time": "2022-02-18T13:41:31.153184Z",
          "start_time": "2022-02-18T13:41:31.137170Z"
        },
        "id": "_GjddSLK8Aam"
      },
      "outputs": [],
      "source": [
        "df.columns"
      ]
    },
    {
      "cell_type": "markdown",
      "metadata": {
        "id": "jUQn4jt8fzA9"
      },
      "source": [
        "**what does the rows represent ?**"
      ]
    },
    {
      "cell_type": "code",
      "execution_count": null,
      "metadata": {
        "ExecuteTime": {
          "end_time": "2022-02-18T13:41:31.171712Z",
          "start_time": "2022-02-18T13:41:31.155904Z"
        },
        "id": "TT_iFLjQfzA-"
      },
      "outputs": [],
      "source": [
        "df.iloc[1]"
      ]
    },
    {
      "cell_type": "markdown",
      "metadata": {
        "id": "VLTJF8yMfzA_"
      },
      "source": [
        "**Analyzing the null information from the data**"
      ]
    },
    {
      "cell_type": "code",
      "execution_count": null,
      "metadata": {
        "ExecuteTime": {
          "end_time": "2022-02-18T13:41:31.786592Z",
          "start_time": "2022-02-18T13:41:31.172710Z"
        },
        "id": "vENB360kfzBA"
      },
      "outputs": [],
      "source": [
        "ax = plt.axes()\n",
        "ax.set_facecolor(\"white\")\n",
        "df.isna().sum().plot(kind='bar', color='red', figsize=(15, 7), fontsize=12)\n",
        "plt.xlabel('Columns', labelpad=7, loc='center', fontsize=15)\n",
        "plt.ylabel('Missing count', labelpad=7, fontsize=15)\n",
        "plt.title('Missing information analysis', pad=15, fontsize=25)\n",
        "plt.grid(False)"
      ]
    },
    {
      "cell_type": "markdown",
      "metadata": {
        "id": "ZbztboWgfzBC"
      },
      "source": [
        "we can see that we have quite a large number of missing data "
      ]
    },
    {
      "cell_type": "code",
      "execution_count": null,
      "metadata": {
        "ExecuteTime": {
          "end_time": "2022-02-18T13:41:32.019987Z",
          "start_time": "2022-02-18T13:41:31.788538Z"
        },
        "id": "pWCYPR4LfzBD"
      },
      "outputs": [],
      "source": [
        "df.isna().sum()"
      ]
    },
    {
      "cell_type": "markdown",
      "metadata": {
        "ExecuteTime": {
          "end_time": "2022-02-06T16:08:51.333402Z",
          "start_time": "2022-02-06T16:08:51.321434Z"
        },
        "id": "Pz1Xp7l-8Aan"
      },
      "source": [
        "**Number of gun violence per year**"
      ]
    },
    {
      "cell_type": "markdown",
      "metadata": {
        "id": "jOk61u8KfzBH"
      },
      "source": [
        "Now,let's start analyzing the data with the year,take a look at ``violence happening per year,month,weekday``"
      ]
    },
    {
      "cell_type": "code",
      "execution_count": null,
      "metadata": {
        "ExecuteTime": {
          "end_time": "2022-02-18T13:41:32.190936Z",
          "start_time": "2022-02-18T13:41:32.021981Z"
        },
        "id": "wDoJDtewfzBI"
      },
      "outputs": [],
      "source": [
        "df.groupby('year').agg({\n",
        "    'year': 'count'\n",
        "}).plot(kind='bar', figsize=(10, 5), color='#ff6600')\n",
        "plt.grid(False)\n",
        "plt.title('Yearly count of cases', fontsize=20)\n",
        "plt.xlabel('Count', fontsize=15) \n",
        "plt.ylabel('Year', fontsize=15);"
      ]
    },
    {
      "cell_type": "markdown",
      "metadata": {
        "id": "GAyjkwJvfzBK"
      },
      "source": [
        "we can see that the violence is increasing with the year.The data available for year 2018 is only for 3 months so we can ignore the data "
      ]
    },
    {
      "cell_type": "markdown",
      "metadata": {
        "id": "GDncPLAmfzBL"
      },
      "source": [
        "### **Incidents per month**"
      ]
    },
    {
      "cell_type": "markdown",
      "metadata": {
        "id": "SobKSZ5NfzBL"
      },
      "source": [
        "**Incidents per month for every year**"
      ]
    },
    {
      "cell_type": "code",
      "source": [
        "yearly = df.groupby(['year', 'month']).aggregate({\n",
        "    'month': 'count',\n",
        "}).rename(columns={\n",
        "    'month': 'month_count'\n",
        "}).reset_index()\n",
        "\n",
        "year_2013 = yearly[yearly['year'] == 2013]\n",
        "year_2014 = yearly[yearly['year'] == 2014]\n",
        "year_2015 = yearly[yearly['year'] == 2015]\n",
        "year_2016 = yearly[yearly['year'] == 2016]\n",
        "year_2017 = yearly[yearly['year'] == 2017]\n",
        "year_2018 = yearly[yearly['year'] == 2018]\n"
      ],
      "metadata": {
        "id": "frMMQcWbMVzU"
      },
      "execution_count": null,
      "outputs": []
    },
    {
      "cell_type": "code",
      "source": [
        "#create dictionary to map the year name to the year groups\n",
        "years_dict = {'Year 2013': year_2013[['month', 'month_count'\n",
        "                       ]].set_index('month').sort_values('month_count'), \n",
        "              'Year 2014': year_2014[['month', 'month_count'\n",
        "                       ]].set_index('month').sort_values('month_count'), \n",
        "              'Year 2015': year_2015[['month', 'month_count'\n",
        "                       ]].set_index('month').sort_values('month_count'), \n",
        "              'Year 2016': year_2016[['month', 'month_count'\n",
        "                       ]].set_index('month').sort_values('month_count'), \n",
        "              'Year 2017': year_2017[['month', 'month_count'\n",
        "                       ]].set_index('month').sort_values('month_count'), \n",
        "              'Year 2018': year_2018[['month', 'month_count'\n",
        "                       ]].set_index('month').sort_values('month_count') }"
      ],
      "metadata": {
        "id": "lTy4___oIoUm"
      },
      "execution_count": null,
      "outputs": []
    },
    {
      "cell_type": "code",
      "source": [
        "#function to display chart for each year\n",
        "def display_chart(year):\n",
        "  for key in years_dict.keys():\n",
        "    if years_dict[key].equals(year):\n",
        "      year_name = key\n",
        " \n",
        "  fig = px.bar(year.reset_index(),\n",
        "              y='month',\n",
        "              x='month_count',\n",
        "              text=round(year['month_count'], 2),\n",
        "              color='month_count', \n",
        "              title = year_name)\n",
        "  fig.update_traces(texttemplate='%{text:.2s}', textposition='outside')\n",
        "  fig.update_layout(uniformtext_minsize=8, uniformtext_mode='hide')\n",
        "  fig.show()\n",
        "\n",
        "#call the display charts function for all the years\n",
        "display_chart(years_dict['Year 2013'])\n",
        "display_chart(years_dict['Year 2014'])\n",
        "display_chart(years_dict['Year 2015'])\n",
        "display_chart(years_dict['Year 2016'])\n",
        "display_chart(years_dict['Year 2017'])\n",
        "display_chart(years_dict['Year 2018'])"
      ],
      "metadata": {
        "id": "1UP4Uczn695U"
      },
      "execution_count": null,
      "outputs": []
    },
    {
      "cell_type": "markdown",
      "metadata": {
        "id": "QndEtgNTfzBO"
      },
      "source": [
        "**Average Incidents per year**"
      ]
    },
    {
      "cell_type": "code",
      "execution_count": null,
      "metadata": {
        "ExecuteTime": {
          "end_time": "2022-02-18T13:41:33.460415Z",
          "start_time": "2022-02-18T13:41:33.385597Z"
        },
        "id": "EhcuE5shfzBO"
      },
      "outputs": [],
      "source": [
        "pivote_year = pd.pivot_table(\n",
        "    yearly, index='month', values='month_count',\n",
        "    aggfunc='mean').sort_values('month_count').reset_index()\n",
        "\n",
        "fig = px.bar(pivote_year,\n",
        "             y='month',\n",
        "             x='month_count',\n",
        "             text=round(pivote_year['month_count'], 2),\n",
        "             color='month_count',\n",
        "             title='Average incidents per year')\n",
        "fig.update_traces(texttemplate='%{text:.2s}', textposition='outside')\n",
        "fig.update_layout(uniformtext_minsize=8, uniformtext_mode='hide')\n",
        "fig.show()"
      ]
    },
    {
      "cell_type": "markdown",
      "metadata": {
        "id": "DTwxf2JpfzBP"
      },
      "source": [
        "The month of ``july and august has around 4.2k incidents,Feburary has the least number of average incidents`` around 3.1k every year."
      ]
    },
    {
      "cell_type": "markdown",
      "metadata": {
        "id": "sRbWvU9QfzBQ"
      },
      "source": [
        "**Average number of gun violence per week**"
      ]
    },
    {
      "cell_type": "code",
      "execution_count": null,
      "metadata": {
        "ExecuteTime": {
          "end_time": "2022-02-18T13:41:33.629267Z",
          "start_time": "2022-02-18T13:41:33.461375Z"
        },
        "id": "NLd49PWMfzBQ"
      },
      "outputs": [],
      "source": [
        "df.groupby('weekday').agg({\n",
        "    'weekday': 'count'\n",
        "}).plot(kind='bar', figsize=(10, 5), color='#cc0099')\n",
        "plt.grid(False)\n",
        "plt.title('Weekly count of cases', fontsize=20)\n",
        "plt.xlabel('Count', fontsize=15)\n",
        "plt.ylabel('Weekday', fontsize=15);"
      ]
    },
    {
      "cell_type": "markdown",
      "metadata": {
        "id": "kR-xByk_fzBS"
      },
      "source": [
        "Number of gun violence incidents are higher on weekends with approximately 35k+ incidents\n",
        "\n",
        "```Saturday and Sunday seems to be most violent days```"
      ]
    },
    {
      "cell_type": "markdown",
      "metadata": {
        "id": "Gmi526UpfzBT"
      },
      "source": [
        "**Trend of the violence rate per month**"
      ]
    },
    {
      "cell_type": "code",
      "execution_count": null,
      "metadata": {
        "ExecuteTime": {
          "end_time": "2022-02-18T13:41:34.050819Z",
          "start_time": "2022-02-18T13:41:33.629944Z"
        },
        "id": "fPZ1jSnTfzBV"
      },
      "outputs": [],
      "source": [
        "pd.pivot_table(df, index='month', values='n_injured',\n",
        "               aggfunc='mean').sort_values('n_injured', ascending=False).plot(\n",
        "                   kind='line', figsize=(30, 10), color='#b30000', fontsize=18)\n",
        "plt.grid(False)\n",
        "plt.title('Monthly trend of violence rate', fontsize=30, pad=25)\n",
        "plt.ylabel('Mean', fontsize=25)\n",
        "plt.xlabel('Month', fontsize=25)\n",
        "plt.legend(['n_injured'], fontsize=20)\n",
        "plt.show()"
      ]
    },
    {
      "cell_type": "markdown",
      "metadata": {
        "id": "F_aFlSd-fzBW"
      },
      "source": [
        "**``Jul seems to be most violent month as July 4th is celebrated as the Independence Day in United States of America``**"
      ]
    },
    {
      "cell_type": "markdown",
      "metadata": {
        "id": "Cq6uDBSwfzBX"
      },
      "source": [
        "**number of incidents by every state**"
      ]
    },
    {
      "cell_type": "code",
      "execution_count": null,
      "metadata": {
        "ExecuteTime": {
          "end_time": "2022-02-18T13:41:35.041107Z",
          "start_time": "2022-02-18T13:41:34.054808Z"
        },
        "scrolled": false,
        "id": "2ADae4JqfzBY"
      },
      "outputs": [],
      "source": [
        "states_df = df['state'].value_counts()\n",
        "statesdf = pd.DataFrame()\n",
        "statesdf['state'] = states_df.index\n",
        "statesdf['counts'] = states_df.values\n",
        "num_incidents_evey_state = pd.DataFrame(data=statesdf['counts'])\n",
        "num_incidents_evey_state.set_index(statesdf['state'], inplace=True)\n",
        "plt.figure(figsize=(15, 12))\n",
        "ax = plt.axes()\n",
        "ax.set_facecolor(\"white\")\n",
        "sns.barplot(x=statesdf['counts'], y=statesdf['state']);"
      ]
    },
    {
      "cell_type": "markdown",
      "metadata": {
        "id": "_X4-35IefzBZ"
      },
      "source": [
        "the most violent states in the entire US are as follows:\n",
        "\n",
        "- **`Illinois`**\n",
        "- **`California`**\n",
        "- **`Florida`**\n",
        "- **`Texas`**\n",
        "- **`Ohio`**\n",
        "- **`New York`**\n"
      ]
    },
    {
      "cell_type": "markdown",
      "metadata": {
        "id": "ik3dWjXkfzBa"
      },
      "source": [
        "**Incident happened vs violence level**"
      ]
    },
    {
      "cell_type": "code",
      "execution_count": null,
      "metadata": {
        "ExecuteTime": {
          "end_time": "2022-02-18T13:41:36.067292Z",
          "start_time": "2022-02-18T13:41:35.044098Z"
        },
        "id": "clZxcHYGfzBa"
      },
      "outputs": [],
      "source": [
        "statdf = df.reset_index().groupby(by=['state']).agg({\n",
        "    'violence': 'sum',\n",
        "    'year': 'count'\n",
        "}).rename(columns={'year': 'count'})\n",
        "statdf['state'] = statdf.index\n",
        "statdf.sort_values('count', ascending=False, inplace=True)\n",
        "statdf.plot(kind='bar', figsize=(20, 10));"
      ]
    },
    {
      "cell_type": "markdown",
      "metadata": {
        "id": "n2eGhkHVfzBb"
      },
      "source": [
        "From this analysis we can see that ``Illinois is more violent than any other state`` as the number of incidents vs violence is very close to each other"
      ]
    },
    {
      "cell_type": "markdown",
      "metadata": {
        "id": "vZD8gZg7fzBc"
      },
      "source": [
        "**Incidents per 100k by state**"
      ]
    },
    {
      "cell_type": "markdown",
      "metadata": {
        "id": "uPWx0IIifzBd"
      },
      "source": [
        "Lets explore how many gun violence incidents occured in different states per 100,000 people. Also, lets identify the states with high number of incidents according to the population of the state as well."
      ]
    },
    {
      "cell_type": "code",
      "execution_count": null,
      "metadata": {
        "ExecuteTime": {
          "end_time": "2022-02-18T13:41:36.759296Z",
          "start_time": "2022-02-18T13:41:36.068953Z"
        },
        "id": "zUzvaDaKfzBd"
      },
      "outputs": [],
      "source": [
        "census_2013 = {\n",
        "    'Mississippi': 2991207,\n",
        "    'Iowa': 3090416,\n",
        "    'Oklahoma': 3850568,\n",
        "    'Delaware': 925749,\n",
        "    'Minnesota': 5420380,\n",
        "    'Alaska': 735132,\n",
        "    'Illinois': 12882135,\n",
        "    'Arkansas': 2959373,\n",
        "    'New Mexico': 2085287,\n",
        "    'Indiana': 6570902,\n",
        "    'Maryland': 5928814,\n",
        "    'Louisiana': 4625470,\n",
        "    'Texas': 26448193,\n",
        "    'Wyoming': 582658,\n",
        "    'Arizona': 6626624,\n",
        "    'Wisconsin': 5742713,\n",
        "    'Michigan': 9895622,\n",
        "    'Kansas': 2893957,\n",
        "    'Utah': 2900872,\n",
        "    'Virginia': 8260405,\n",
        "    'Oregon': 3930065,\n",
        "    'Connecticut': 3596080,\n",
        "    'New York': 19651127,\n",
        "    'California': 38332521,\n",
        "    'Massachusetts': 6692824,\n",
        "    'West Virginia': 1854304,\n",
        "    'South Carolina': 4774839,\n",
        "    'New Hampshire': 1323459,\n",
        "    'Vermont': 626630,\n",
        "    'Georgia': 9992167,\n",
        "    'North Dakota': 723393,\n",
        "    'Pennsylvania': 12773801,\n",
        "    'Florida': 19552860,\n",
        "    'Hawaii': 1404054,\n",
        "    'Kentucky': 4395295,\n",
        "    'Rhode Island': 1051511,\n",
        "    'Nebraska': 1868516,\n",
        "    'Missouri': 6044171,\n",
        "    'Ohio': 11570808,\n",
        "    'Alabama': 4833722,\n",
        "    'South Dakota': 844877,\n",
        "    'Colorado': 5268367,\n",
        "    'Idaho': 1612136,\n",
        "    'New Jersey': 8899339,\n",
        "    'Washington': 6971406,\n",
        "    'North Carolina': 9848060,\n",
        "    'Tennessee': 6495978,\n",
        "    'Montana': 1015165,\n",
        "    'District of Columbia': 646449,\n",
        "    'Nevada': 2790136,\n",
        "    'Maine': 1328302\n",
        "}\n",
        "statesdf['population'] = statesdf['state'].apply(lambda x: census_2013[x])\n",
        "statesdf['incidents_per_k'] = statesdf.apply(\n",
        "    lambda x: float(x['counts']) * 100000 / x['population'], axis=1)\n",
        "tempdf = statesdf.sort_values('incidents_per_k', ascending=False)\n",
        "tempdf.set_index('state', inplace=True)\n",
        "tempdf.sort_values('incidents_per_k', ascending=False, inplace=True)\n",
        "ax = plt.axes()\n",
        "ax.set_facecolor(\"white\")\n",
        "tempdf['incidents_per_k'].plot(kind='bar', figsize=(20, 10), color='red');"
      ]
    },
    {
      "cell_type": "markdown",
      "metadata": {
        "id": "J9KJA-xffzBf"
      },
      "source": [
        "District of Columbia and Alaska has the highest number of gun violence incidents per 100,000 people approx. while Arizona, Utah, and Idaho are the states with least number of incidents in population adjusted dataset."
      ]
    },
    {
      "cell_type": "markdown",
      "metadata": {
        "id": "tfaqXQ1KfzBg"
      },
      "source": [
        "**Common Areas of Gun Violence Incidents**"
      ]
    },
    {
      "cell_type": "code",
      "execution_count": null,
      "metadata": {
        "ExecuteTime": {
          "end_time": "2022-02-18T13:41:40.038161Z",
          "start_time": "2022-02-18T13:41:36.760234Z"
        },
        "id": "t0j0oVVdfzBg"
      },
      "outputs": [],
      "source": [
        "mask = np.array(Image.open(\"hand.jpg\"))\n",
        "txt = \" \".join(df['location_description'].dropna())\n",
        "wc = WordCloud(max_font_size=50,\n",
        "               max_words=1000,\n",
        "               stopwords=STOPWORDS,\n",
        "               mask=mask,\n",
        "               background_color='white').generate(txt)\n",
        "plt.figure(figsize=(10, 10))\n",
        "plt.imshow(wc, interpolation='sinc')\n",
        "plt.axis('off');"
      ]
    },
    {
      "cell_type": "markdown",
      "metadata": {
        "id": "PVTIISsXfzBi"
      },
      "source": [
        "As we can see here `High School, Apartment, Parks, Gas Station, Walmart, Motel, Bar, Club` are very violent "
      ]
    },
    {
      "cell_type": "markdown",
      "metadata": {
        "id": "XZdrGSikfzBk"
      },
      "source": [
        "**Common days of gun violence incidence**"
      ]
    },
    {
      "cell_type": "code",
      "execution_count": null,
      "metadata": {
        "ExecuteTime": {
          "end_time": "2022-02-18T13:41:40.966902Z",
          "start_time": "2022-02-18T13:41:40.038161Z"
        },
        "id": "pN3Ql_nFfzBl"
      },
      "outputs": [],
      "source": [
        "txt = \" \".join(df['weekday'].dropna())\n",
        "wc = WordCloud(max_font_size=50,\n",
        "               max_words=1000,\n",
        "               stopwords=STOPWORDS,\n",
        "               background_color='White').generate(txt)\n",
        "plt.figure(figsize=(10, 20))\n",
        "plt.imshow(wc)\n",
        "plt.axis('off');"
      ]
    },
    {
      "cell_type": "markdown",
      "metadata": {
        "id": "r09cfCmjfzBm"
      },
      "source": [
        "**`Saturday,Sunday,Monday and Wednesday`** are the days that comes most in the violence"
      ]
    },
    {
      "cell_type": "markdown",
      "metadata": {
        "id": "VPokPf-yfzBn"
      },
      "source": [
        "**Common months of Gun violence**"
      ]
    },
    {
      "cell_type": "code",
      "execution_count": null,
      "metadata": {
        "ExecuteTime": {
          "end_time": "2022-02-18T13:41:41.915876Z",
          "start_time": "2022-02-18T13:41:40.966902Z"
        },
        "id": "qq3qTMlefzBo"
      },
      "outputs": [],
      "source": [
        "txt = \" \".join(df['month'].dropna())\n",
        "x, y = np.ogrid[:300, :300]\n",
        "mask = (x - 150)**2 + (y - 150)**2 > 130**2\n",
        "mask = 255 * mask.astype(int)\n",
        "wc = WordCloud(max_font_size=50,\n",
        "               max_words=1000,\n",
        "               stopwords=STOPWORDS,\n",
        "               mask=mask,\n",
        "               background_color='White').generate(txt)\n",
        "plt.figure(figsize=(6, 6))\n",
        "plt.imshow(wc, interpolation='lanczos')\n",
        "plt.axis('off');"
      ]
    },
    {
      "cell_type": "markdown",
      "metadata": {
        "id": "q7xScGLNfzBp"
      },
      "source": [
        "**Jan,Aug,Mar,Jul** are the most violent months "
      ]
    },
    {
      "cell_type": "markdown",
      "metadata": {
        "id": "v8sVRnO6fzBq"
      },
      "source": [
        "`Why those months are most violent ?`"
      ]
    },
    {
      "cell_type": "markdown",
      "metadata": {
        "id": "NbuD7cxFfzBq"
      },
      "source": [
        "we can observe the highest peaks around July 4th and July 5th every year from 2014 to 2017. This is very interesting as `July 4th is celebrated as the Independence Day in United States of America`. From this data, it seems that `4th July - 5th July are` the dates related with very large number of gun violence incidents, hence are the `most dangerous dates`. The holiday can also contributes to the fact that large number of gun violence incidents are reported."
      ]
    },
    {
      "cell_type": "markdown",
      "metadata": {
        "id": "cgjHbz8vfzBr"
      },
      "source": [
        "**Participants Gender and  Type visualizations and insights.**"
      ]
    },
    {
      "cell_type": "code",
      "execution_count": null,
      "metadata": {
        "ExecuteTime": {
          "end_time": "2022-02-18T13:41:43.693626Z",
          "start_time": "2022-02-18T13:41:41.917443Z"
        },
        "id": "MEuPtNbWfzBr"
      },
      "outputs": [],
      "source": [
        "def cols_clean(x):\n",
        "    cols_index = []\n",
        "    indexes = str(x).split(\"||\")\n",
        "    for i in indexes:\n",
        "        output = str(i).split(\"::\")\n",
        "        if len(output) > 1:\n",
        "            cols_index.append(output[1])\n",
        "\n",
        "    return cols_index\n",
        "\n",
        "\n",
        "# #try on one\n",
        "# cols_clean(df.iloc[0][\"participant_gender\"])\n",
        "\n",
        "# participant gender.\n",
        "df[\"participant_gender\"].fillna(\"0::Unrecorded\", inplace=True)\n",
        "participants_gender = df[\"participant_gender\"].apply(cols_clean)\n",
        "df[\"male\"] = participants_gender.apply(lambda y: y.count(\"Male\"))\n",
        "df[\"female\"] = participants_gender.apply(lambda y: y.count(\"Female\"))\n",
        "df[\"Unrecorded_gender\"] = participants_gender.apply(\n",
        "    lambda y: y.count(\"Unrecorded\"))\n",
        "df[\"total\"] = participants_gender.apply(lambda y: len(y))\n",
        "\n",
        "#participant type\n",
        "df[\"participant_type\"].fillna(\"0::Unrecorded_type\", inplace=True)\n",
        "participants_type = df[\"participant_type\"].apply(cols_clean)\n",
        "df[\"suspect\"] = participants_type.apply(lambda y: y.count(\"Subject-Suspect\"))\n",
        "df[\"victims\"] = participants_type.apply(lambda y: y.count(\"Victim\"))\n",
        "df[\"unrecorded_type\"] = participants_type.apply(\n",
        "    lambda y: y.count(\"Unrecorded_type\"))\n",
        "\n",
        "gender_df = df[[\"male\", \"female\", \"Unrecorded_gender\"]].sum().reset_index()\n",
        "gender_df.rename(columns={\"index\": \"Gender\", 0: \"Total\"}, inplace=True)\n",
        "print(gender_df)\n",
        "\n",
        "sns.catplot(data=gender_df,\n",
        "            kind=\"bar\",\n",
        "            x=\"Gender\",\n",
        "            y=\"Total\",\n",
        "            palette=\"rocket\",\n",
        "            alpha=.6,\n",
        "            height=6);"
      ]
    },
    {
      "cell_type": "markdown",
      "metadata": {
        "id": "3yY_yxzCfzBs"
      },
      "source": [
        "Here we can see that **males are 6.5x more involves in the violence**.While we still have genders which are not recorded"
      ]
    },
    {
      "cell_type": "code",
      "execution_count": null,
      "metadata": {
        "ExecuteTime": {
          "end_time": "2022-02-18T13:41:43.776310Z",
          "start_time": "2022-02-18T13:41:43.695290Z"
        },
        "id": "RZrd-wylfzBs"
      },
      "outputs": [],
      "source": [
        "type_df = df[[\"victims\", \"suspect\", \"unrecorded_type\"]].sum().reset_index()\n",
        "type_df.rename(columns={\"index\": \"Type\", 0: \"Total\"}, inplace=True)\n",
        "print(type_df)\n",
        "\n",
        "fig = px.bar(type_df, x=\"Total\", y=\"Type\", orientation='h', color='Type')\n",
        "fig.show()"
      ]
    },
    {
      "cell_type": "markdown",
      "metadata": {
        "id": "-JFBnAXYfzBt"
      },
      "source": [
        "**Analysis of types of guns used in the gun violence**"
      ]
    },
    {
      "cell_type": "code",
      "execution_count": null,
      "metadata": {
        "ExecuteTime": {
          "end_time": "2022-02-18T13:41:44.291027Z",
          "start_time": "2022-02-18T13:41:43.777307Z"
        },
        "id": "p7E0SICrfzBt"
      },
      "outputs": [],
      "source": [
        "df[\"gun_type\"].fillna(\"0::Unknown\", inplace=True)\n",
        "gun_type = df[\"gun_type\"].apply(cols_clean)\n",
        "gun_type.head()"
      ]
    },
    {
      "cell_type": "markdown",
      "metadata": {
        "id": "Mp6WJa3afzBu"
      },
      "source": [
        "Finding the unique types of guns for mapping."
      ]
    },
    {
      "cell_type": "code",
      "execution_count": null,
      "metadata": {
        "ExecuteTime": {
          "end_time": "2022-02-18T13:41:44.589234Z",
          "start_time": "2022-02-18T13:41:44.292029Z"
        },
        "id": "n--3cUXbfzBu"
      },
      "outputs": [],
      "source": [
        "guntype_df = gun_type.reset_index()\n",
        "guntype_df[\"gun_type\"].explode().unique()"
      ]
    },
    {
      "cell_type": "code",
      "execution_count": null,
      "metadata": {
        "ExecuteTime": {
          "end_time": "2022-02-18T13:41:47.102426Z",
          "start_time": "2022-02-18T13:41:44.593223Z"
        },
        "id": "7XLMyA5PfzBv"
      },
      "outputs": [],
      "source": [
        "df['Unknown'] = gun_type.apply(lambda y: y.count('Unknown'))\n",
        "df['Handgun'] = gun_type.apply(lambda y: y.count('Handgun'))\n",
        "df['22 LR'] = gun_type.apply(lambda y: y.count('22 LR'))\n",
        "df['223 Rem [AR-15]'] = gun_type.apply(lambda y: y.count('223 Rem [AR-15]'))\n",
        "df['Shotgun'] = gun_type.apply(lambda y: y.count('Shotgun'))\n",
        "df['9mm'] = gun_type.apply(lambda y: y.count('9mm'))\n",
        "df['45 Auto'] = gun_type.apply(lambda y: y.count('45 Auto'))\n",
        "df['12 gauge'] = gun_type.apply(lambda y: y.count('12 gauge'))\n",
        "df['7.62 [AK-47]'] = gun_type.apply(lambda y: y.count('7.62 [AK-47]'))\n",
        "df['40 SW'] = gun_type.apply(lambda y: y.count('40 SW'))\n",
        "df['44 Mag'] = gun_type.apply(lambda y: y.count('44 Mag'))\n",
        "df['Other'] = gun_type.apply(lambda y: y.count('Other'))\n",
        "df['38 Spl'] = gun_type.apply(lambda y: y.count('38 Spl'))\n",
        "df['380 Auto'] = gun_type.apply(lambda y: y.count('380 Auto'))\n",
        "df['410 gauge'] = gun_type.apply(lambda y: y.count('Unknown'))\n",
        "df['32 Auto'] = gun_type.apply(lambda y: y.count('410 gauge'))\n",
        "df['308 Win'] = gun_type.apply(lambda y: y.count('308 Win'))\n",
        "df['Rifle'] = gun_type.apply(lambda y: y.count('Rifle'))\n",
        "df['357 Mag'] = gun_type.apply(lambda y: y.count('357 Mag'))\n",
        "df['16 gauge'] = gun_type.apply(lambda y: y.count('16 gauge'))\n",
        "df['30-30 Win'] = gun_type.apply(lambda y: y.count('30-30 Win'))\n",
        "df['25 Auto'] = gun_type.apply(lambda y: y.count('25 Auto'))\n",
        "df['10mm'] = gun_type.apply(lambda y: y.count('10mm'))\n",
        "df['20 gauge'] = gun_type.apply(lambda y: y.count('20 gauge'))\n",
        "df['30-06 Spr'] = gun_type.apply(lambda y: y.count('30-06 Spr'))\n",
        "df['300 Win'] = gun_type.apply(lambda y: y.count('300 Win'))\n",
        "df['28 gauge'] = gun_type.apply(lambda y: y.count('28 gauge'))"
      ]
    },
    {
      "cell_type": "code",
      "execution_count": null,
      "metadata": {
        "ExecuteTime": {
          "end_time": "2022-02-18T13:41:47.201068Z",
          "start_time": "2022-02-18T13:41:47.104412Z"
        },
        "scrolled": true,
        "id": "urLXZSDtfzBv"
      },
      "outputs": [],
      "source": [
        "guns_df = df[[\n",
        "    'Unknown', 'Handgun', '22 LR', '223 Rem [AR-15]', 'Shotgun', '9mm',\n",
        "    '45 Auto', '12 gauge', '7.62 [AK-47]', '40 SW', '44 Mag', 'Other',\n",
        "    '38 Spl', '380 Auto', '410 gauge', '32 Auto', '308 Win', 'Rifle',\n",
        "    '357 Mag', '16 gauge', '30-30 Win', '25 Auto', '10mm', '20 gauge',\n",
        "    '30-06 Spr', '300 Win', '28 gauge'\n",
        "]].sum().reset_index()\n",
        "guns_df.rename(columns={\"index\": \"Guntype\", 0: \"Total\"}, inplace=True)\n",
        "guns_df.head()"
      ]
    },
    {
      "cell_type": "code",
      "execution_count": null,
      "metadata": {
        "ExecuteTime": {
          "end_time": "2022-02-18T13:41:47.367446Z",
          "start_time": "2022-02-18T13:41:47.203025Z"
        },
        "id": "pmg0c5xNfzBw"
      },
      "outputs": [],
      "source": [
        "guns_df.sort_values(by=[\"Total\", \"Guntype\"],\n",
        "                    ascending=[True, False],\n",
        "                    inplace=True)\n",
        "fig = px.bar(guns_df,\n",
        "             x=\"Total\",\n",
        "             y=\"Guntype\",\n",
        "             orientation='h',\n",
        "             color='Guntype',\n",
        "             width=800,\n",
        "             height=1000)\n",
        "fig.update_traces(width=1.5)\n",
        "fig.show()"
      ]
    },
    {
      "cell_type": "code",
      "execution_count": null,
      "metadata": {
        "ExecuteTime": {
          "end_time": "2022-02-18T13:41:47.383084Z",
          "start_time": "2022-02-18T13:41:47.369122Z"
        },
        "scrolled": false,
        "id": "yHM8n2EufzBw"
      },
      "outputs": [],
      "source": [
        "guns_df[\"Total\"].sort_values(ascending=True).head()"
      ]
    },
    {
      "cell_type": "code",
      "execution_count": null,
      "metadata": {
        "ExecuteTime": {
          "end_time": "2022-02-18T13:41:47.399080Z",
          "start_time": "2022-02-18T13:41:47.384081Z"
        },
        "id": "s2RYCQr3fzBx"
      },
      "outputs": [],
      "source": [
        "print(guns_df.iloc[26])\n",
        "print(guns_df.iloc[0])\n",
        "print(guns_df.iloc[14])"
      ]
    },
    {
      "cell_type": "markdown",
      "metadata": {
        "id": "DZ0mPLpJfzBy"
      },
      "source": [
        "From the visualization and the output above it is evident that the type of guns used mostly are unknown not recorded followed the 410 gauge used. The gun that is least used is the 28 gauge type."
      ]
    },
    {
      "cell_type": "markdown",
      "metadata": {
        "id": "V8OzefiAfzBz"
      },
      "source": [
        "**Number of guns used in incidents**"
      ]
    },
    {
      "cell_type": "code",
      "execution_count": null,
      "metadata": {
        "ExecuteTime": {
          "end_time": "2022-02-18T13:41:48.861502Z",
          "start_time": "2022-02-18T13:41:47.400038Z"
        },
        "id": "O169EN7HfzB0"
      },
      "outputs": [],
      "source": [
        "my_df = df[['n_guns_involved', 'year', 'state']].dropna()\n",
        "\n",
        "Y2013 = my_df[my_df['year'] == 2013].drop(columns='year')\n",
        "Y2013 = Y2013.groupby('state')['n_guns_involved'].max()\n",
        "Y2013.sort_values(inplace=True)\n",
        "\n",
        "Y2014 = my_df[my_df['year'] == 2014].drop(columns='year')\n",
        "Y2014 = Y2014.groupby('state')['n_guns_involved'].max()\n",
        "Y2014.sort_values(inplace=True)\n",
        "\n",
        "Y2015 = my_df[my_df['year'] == 2015].drop(columns='year')\n",
        "Y2015 = Y2015.groupby('state')['n_guns_involved'].max()\n",
        "Y2015.sort_values(inplace=True)\n",
        "\n",
        "Y2016 = my_df[my_df['year'] == 2016].drop(columns='year')\n",
        "Y2016 = Y2016.groupby('state')['n_guns_involved'].max()\n",
        "Y2016.sort_values(inplace=True)\n",
        "\n",
        "Y2017 = my_df[my_df['year'] == 2017].drop(columns='year')\n",
        "Y2017 = Y2017.groupby('state')['n_guns_involved'].max()\n",
        "Y2017.sort_values(inplace=True)\n",
        "\n",
        "Y2018 = my_df[my_df['year'] == 2018].drop(columns='year')\n",
        "Y2018 = Y2018.groupby('state')['n_guns_involved'].max()\n",
        "Y2018.sort_values(inplace=True)\n",
        "\n",
        "ax = plt.axes()\n",
        "ax.set_facecolor(\"white\")\n",
        "Y2013.plot(kind='barh',\n",
        "           figsize=(20, 20),\n",
        "           color='#800000',\n",
        "           legend=True,\n",
        "           label='Year 2013')\n",
        "Y2014.plot(kind='barh',\n",
        "           figsize=(20, 20),\n",
        "           color='#8B0000',\n",
        "           legend=True,\n",
        "           label='Year 2014')\n",
        "Y2015.plot(kind='barh',\n",
        "           figsize=(20, 20),\n",
        "           color='#B22222',\n",
        "           legend=True,\n",
        "           label='Year 2015')\n",
        "Y2016.plot(kind='barh',\n",
        "           figsize=(20, 20),\n",
        "           color='#DC143C',\n",
        "           legend=True,\n",
        "           label='Year 2016')\n",
        "Y2017.plot(kind='barh',\n",
        "           figsize=(20, 20),\n",
        "           color='#CD5C5C',\n",
        "           legend=True,\n",
        "           label='Year 2017')\n",
        "Y2018.plot(kind='barh',\n",
        "           figsize=(20, 20),\n",
        "           color='#FFA07A',\n",
        "           legend=True,\n",
        "           label='Year 2018')\n",
        "\n",
        "plt.xlabel('Number of guns used', labelpad=7, loc='center', fontsize=20)\n",
        "plt.ylabel('State', labelpad=7, fontsize=20)\n",
        "plt.title(\n",
        "    'Number of guns used yearly in shootings across countries in the USA',\n",
        "    pad=15,\n",
        "    fontsize=30,\n",
        "    fontfamily='Serif');"
      ]
    },
    {
      "cell_type": "markdown",
      "metadata": {
        "id": "WFu8UW4PfzB2"
      },
      "source": [
        "In South Carolina ,Kentucky and New York has Number of guns used yearly in shootings across countries in the USA.\n",
        "While `Kansas,Alaska,Wyoming are the safest ones`."
      ]
    },
    {
      "cell_type": "markdown",
      "metadata": {
        "id": "XoSVGO0VfzB3"
      },
      "source": [
        "**Overall number of guns involved**"
      ]
    },
    {
      "cell_type": "code",
      "execution_count": null,
      "metadata": {
        "ExecuteTime": {
          "end_time": "2022-02-18T13:41:49.515022Z",
          "start_time": "2022-02-18T13:41:48.862470Z"
        },
        "id": "VywJLs_UfzB3"
      },
      "outputs": [],
      "source": [
        "Yearwise = pd.concat([Y2013, Y2014, Y2015, Y2016, Y2017, Y2018])\n",
        "Yearwise = Yearwise.groupby('state').max()\n",
        "Yearwise.sort_values(inplace=True)\n",
        "ax = plt.axes()\n",
        "ax.set_facecolor(\"white\")\n",
        "Yearwise.plot(kind='barh', figsize=(20, 20), color='#ff6347')\n",
        "plt.grid(False)\n",
        "plt.title('Overall number of guns involved', fontsize=20)\n",
        "plt.xlabel('Count', fontsize=20)\n",
        "plt.ylabel('State', fontsize=20);"
      ]
    },
    {
      "cell_type": "markdown",
      "metadata": {
        "id": "Fka8RtRBfzB4"
      },
      "source": [
        "But in overall California ,Florida and Maryland comes on the top for Overall number of guns involved.\n",
        "While Hawaii is the safest to explore.\n",
        "\n",
        "**`This is interesting as now we can go to Hawaii for weekends as during the weekends there is more violence in the city`**."
      ]
    },
    {
      "cell_type": "markdown",
      "metadata": {
        "id": "MJ6lDOpmfzB4"
      },
      "source": [
        "**Incidents per 100k by city**"
      ]
    },
    {
      "cell_type": "code",
      "execution_count": null,
      "metadata": {
        "ExecuteTime": {
          "end_time": "2022-02-18T13:41:49.594263Z",
          "start_time": "2022-02-18T13:41:49.518011Z"
        },
        "id": "DilhHZiyfzB4"
      },
      "outputs": [],
      "source": [
        "population_in_2016 = {\n",
        "    'Carol Stream': '40069',\n",
        "    'La Quinta': '40956',\n",
        "    'Leander': '42761',\n",
        "    'Edinburg': '87650',\n",
        "    'Chino Hills': '78822',\n",
        "    'Pinellas Park': '52137',\n",
        "    'Pacifica': '39062',\n",
        "    'San Luis Obispo': '47536',\n",
        "    'Apache Junction': '39954',\n",
        "    'Toledo': '278508',\n",
        "    'Nampa': '91382',\n",
        "    'Jurupa Valley': '103541',\n",
        "    'Renton': '100953',\n",
        "    'Joplin': '52195',\n",
        "    'Pomona': '152494',\n",
        "    'Hoover': '84978',\n",
        "    'Columbia': '134309',\n",
        "    'Maple Grove': '69576',\n",
        "    'Rowlett': '61999',\n",
        "    'Bayonne': '66238',\n",
        "    'Fremont': '233136',\n",
        "    'Scottsdale': '246645',\n",
        "    'Bozeman': '45250',\n",
        "    'El Paso': '683080',\n",
        "    'Santa Maria': '106290',\n",
        "    'Cedar Park': '68918',\n",
        "    'Shelton': '41334',\n",
        "    'Atlanta': '472522',\n",
        "    'Kettering': '55306',\n",
        "    'Bartlett': '58622',\n",
        "    'Orem': '97499',\n",
        "    'Bullhead City': '39970',\n",
        "    'Bradenton': '55687',\n",
        "    'Waterloo': '67934',\n",
        "    'Scranton': '77291',\n",
        "    'Glendora': '51851',\n",
        "    'Lakeland': '106420',\n",
        "    'West Valley City': '136574',\n",
        "    'Moreno Valley': '205499',\n",
        "    'Brea': '42471',\n",
        "    'Normal': '54264',\n",
        "    'Bolingbrook': '74518',\n",
        "    'Rocky Mount': '55466',\n",
        "    'Redding': '91808',\n",
        "    'Chico': '91567',\n",
        "    'Virginia Beach': '452602',\n",
        "    'Charlotte': '842051',\n",
        "    'Parker': '51163',\n",
        "    'Bloomington': '85319',\n",
        "    'Wake Forest': '40112',\n",
        "    'Beaumont': '118299',\n",
        "    'Huntersville': '54839',\n",
        "    'Oakland Park': '44326',\n",
        "    'Beavercreek': '46376',\n",
        "    'Broken Arrow': '107403',\n",
        "    'Seattle': '704352',\n",
        "    'Santa Barbara': '91930',\n",
        "    'Sandy': '95836',\n",
        "    'El Monte': '115807',\n",
        "    'Grand Island': '51517',\n",
        "    'Santa Monica': '92478',\n",
        "    'Ocala': '59253',\n",
        "    'Oro Valley': '43781',\n",
        "    'Waco': '134432',\n",
        "    'Midwest City': '57305',\n",
        "    'Allentown': '120443',\n",
        "    'Garden Grove': '174858',\n",
        "    'Bellflower': '77790',\n",
        "    'Denver': '693060',\n",
        "    'Minot': '48743',\n",
        "    'Des Plaines': '58141',\n",
        "    'Burlington': '52709',\n",
        "    'Orange': '140504',\n",
        "    'Dunwoody': '48884',\n",
        "    'San Mateo': '103959',\n",
        "    'Minnetonka': '52369',\n",
        "    'Eagan': '66428',\n",
        "    'Oceanside': '175464',\n",
        "    'Avondale': '82881',\n",
        "    'Alameda': '78906',\n",
        "    'San Diego': '1406630',\n",
        "    'Haverhill': '62873',\n",
        "    'Waukegan': '88182',\n",
        "    'Daytona Beach': '66645',\n",
        "    'Grove City': '39721',\n",
        "    'Altoona': '44589',\n",
        "    'Hamilton': '62127',\n",
        "    'Kirkland': '87701',\n",
        "    'Honolulu': '351792',\n",
        "    'Macon-Bibb County': '152555',\n",
        "    'Stillwater': '49504',\n",
        "    'Colorado Springs': '465101',\n",
        "    'Cedar Hill': '48343',\n",
        "    'Jupiter': '63813',\n",
        "    'Overland Park': '188966',\n",
        "    'Boise City': '223154',\n",
        "    'Missoula': '72364',\n",
        "    'Burbank': '104447',\n",
        "    'Youngstown': '64312',\n",
        "    'Sunnyvale': '152771',\n",
        "    'Hoboken': '54379',\n",
        "    'Ankeny': '58627',\n",
        "    'Harrisonburg': '53078',\n",
        "    'Rancho Santa Margarita': '48969',\n",
        "    'Fitchburg': '40414',\n",
        "    'Revere': '53157',\n",
        "    'Fountain Valley': '56529',\n",
        "    'San Bruno': '42957',\n",
        "    'Pembroke Pines': '168587',\n",
        "    'Friendswood': '39396',\n",
        "    'Bountiful': '44078',\n",
        "    'Terre Haute': '60852',\n",
        "    'Methuen': '49917',\n",
        "    'Las Vegas': '632912',\n",
        "    'South San Francisco': '66980',\n",
        "    'Cedar Falls': '41390',\n",
        "    'Carlsbad': '113952',\n",
        "    'Quincy': '93688',\n",
        "    'Waterbury': '108272',\n",
        "    'Thornton': '136703',\n",
        "    'Mount Pleasant': '84170',\n",
        "    'Livermore': '89115',\n",
        "    'Lansing': '116020',\n",
        "    'Richmond': '223170',\n",
        "    'Providence': '179219',\n",
        "    'Clearwater': '114361',\n",
        "    'Pasadena': '153351',\n",
        "    'Clovis': '106583',\n",
        "    'Augusta-Richmond County': '197081',\n",
        "    'Lacey': '47688',\n",
        "    'East Providence': '47337',\n",
        "    'Columbus': '860090',\n",
        "    'Indianapolis': '855164',\n",
        "    'Danbury': '84992',\n",
        "    'Sarasota': '56610',\n",
        "    'Mountain View': '80447',\n",
        "    'South Bend': '101735',\n",
        "    'Watsonville': '53796',\n",
        "    'Ann Arbor': '120782',\n",
        "    'Valdosta': '56474',\n",
        "    'Berwyn': '55748',\n",
        "    'Akron': '197633',\n",
        "    'Memphis': '652717',\n",
        "    'Enid': '51004',\n",
        "    'Brighton': '38314',\n",
        "    'Lake Charles': '76848',\n",
        "    'West Lafayette': '45872',\n",
        "    'Littleton': '46333',\n",
        "    'Orlando': '277173',\n",
        "    'Loveland': '76897',\n",
        "    'Spanish Fork': '38861',\n",
        "    'Edmonds': '41840',\n",
        "    'Goose Creek': '42039',\n",
        "    'Monterey Park': '61075',\n",
        "    'Woburn': '39452',\n",
        "    'Upland': '76684',\n",
        "    'Edina': '51350',\n",
        "    'Bowling Green': '65234',\n",
        "    'Oxnard': '207906',\n",
        "    'San Rafael': '58954',\n",
        "    'Costa Mesa': '112822',\n",
        "    'Roseville': '132671',\n",
        "    'Birmingham': '212157',\n",
        "    'Bothell': '44546',\n",
        "    'Buckeye': '64629',\n",
        "    'Oklahoma City': '638367',\n",
        "    'Broomfield': '66529',\n",
        "    'Hattiesburg': '46926',\n",
        "    'West Des Moines': '64560',\n",
        "    'Denton': '133808',\n",
        "    'Weslaco': '40033',\n",
        "    'Flagstaff': '71459',\n",
        "    'Annapolis': '39418',\n",
        "    'Yucaipa': '53309',\n",
        "    'West Palm Beach': '108161',\n",
        "    'West Jordan': '113699',\n",
        "    'Bonita Springs': '54198',\n",
        "    'Plainfield': '50636',\n",
        "    'Buffalo Grove': '41346',\n",
        "    'Utica': '60652',\n",
        "    'Paterson': '147000',\n",
        "    'Fond du Lac': '42951',\n",
        "    'Harlingen': '65539',\n",
        "    'Ocoee': '44820',\n",
        "    'Moline': '42250',\n",
        "    'Paramount': '54909',\n",
        "    'Winter Garden': '41988',\n",
        "    'Phoenix': '1615017',\n",
        "    'State College': '41992',\n",
        "    'Irving': '238289',\n",
        "    'Edmond': '91191',\n",
        "    'Manhattan': '54983',\n",
        "    'Pocatello': '54746',\n",
        "    'Hartford': '123243',\n",
        "    'Missouri City': '74561',\n",
        "    'Summerville': '49323',\n",
        "    'Joliet': '148262',\n",
        "    'Azusa': '49628',\n",
        "    'Alpharetta': '65338',\n",
        "    'Boynton Beach': '75569',\n",
        "    'North Las Vegas': '238702',\n",
        "    'Sioux Falls': '174360',\n",
        "    'Chattanooga': '177571',\n",
        "    'Port Orange': '61105',\n",
        "    'Federal Way': '96757',\n",
        "    'Lexington-Fayette': '318449',\n",
        "    'Riverton': '42838',\n",
        "    'Chesapeake': '237940',\n",
        "    'Compton': '97550',\n",
        "    'Smyrna': '56664',\n",
        "    'Rock Island': '38210',\n",
        "    'Duluth': '86293',\n",
        "    'Petaluma': '60530',\n",
        "    'Doral': '57947',\n",
        "    'Wheaton': '53389',\n",
        "    'Oak Park': '51774',\n",
        "    'Wheeling': '38315',\n",
        "    'St. Louis': '311404',\n",
        "    'Ceres': '48278',\n",
        "    'Tallahassee': '190894',\n",
        "    'Lakewood': '154393',\n",
        "    'Mount Prospect': '54171',\n",
        "    'Nashua': '87882',\n",
        "    'Rocklin': '62787',\n",
        "    'Woonsocket': '41406',\n",
        "    'Salinas': '157218',\n",
        "    'Janesville': '64159',\n",
        "    'New Rochelle': '79557',\n",
        "    'Euclid': '47360',\n",
        "    'Turlock': '72796',\n",
        "    'Schenectady': '64913',\n",
        "    'McKinney': '172298',\n",
        "    'Yorba Linda': '68235',\n",
        "    'Redondo Beach': '67867',\n",
        "    'Bowie': '58393',\n",
        "    'Grapevine': '51971',\n",
        "    'Arlington': '392772',\n",
        "    'Perth Amboy': '52499',\n",
        "    'Wyoming': '75567',\n",
        "    'Montgomery': '200022',\n",
        "    'Newark': '281764',\n",
        "    'Apple Valley': '72553',\n",
        "    'Wilson': '49620',\n",
        "    'Sandy Springs': '105703',\n",
        "    'Charlottesville': '46912',\n",
        "    'Warwick': '81579',\n",
        "    'Pico Rivera': '63635',\n",
        "    'Irvine': '266122',\n",
        "    'Waltham': '63002',\n",
        "    'Chesterfield': '47659',\n",
        "    'Palm Beach Gardens': '53778',\n",
        "    'Lodi': '64641',\n",
        "    'Stanton': '38644',\n",
        "    'Thousand Oaks': '128888',\n",
        "    'Harrisburg': '48904',\n",
        "    'Elyria': '53715',\n",
        "    'Marlborough': '39697',\n",
        "    'Menifee': '88531',\n",
        "    'Fort Wayne': '264488',\n",
        "    'Conroe': '82286',\n",
        "    'Medford': '81636',\n",
        "    'Rochester Hills': '73422',\n",
        "    'Jonesboro': '74889',\n",
        "    'Carrollton': '133351',\n",
        "    'Lenexa': '52903',\n",
        "    'West New York': '53343',\n",
        "    'Vallejo': '121299',\n",
        "    'Cutler Bay': '44707',\n",
        "    'Norfolk': '245115',\n",
        "    'Rogers': '65021',\n",
        "    'Colton': '54712',\n",
        "    'Miami': '453579',\n",
        "    'Lorain': '63730',\n",
        "    'Kyle': '39060',\n",
        "    'Cerritos': '50555',\n",
        "    'Topeka': '126808',\n",
        "    'Kenosha': '99631',\n",
        "    'New Britain': '72558',\n",
        "    'Brookhaven': '52444',\n",
        "    'Glenview': '47475',\n",
        "    'Montclair': '38944',\n",
        "    'Tigard': '51902',\n",
        "    'Indio': '88488',\n",
        "    'East Lansing': '48870',\n",
        "    'North Port': '64274',\n",
        "    'Pittsburg': '70679',\n",
        "    'Savannah': '146763',\n",
        "    'Newton': '89045',\n",
        "    'Pharr': '77320',\n",
        "    'Fort Worth': '854113',\n",
        "    'McAllen': '142212',\n",
        "    'Palm Coast': '85109',\n",
        "    'North Little Rock': '66278',\n",
        "    'Gary': '76424',\n",
        "    'Orland Park': '58862',\n",
        "    'Gilroy': '55069',\n",
        "    'Coppell': '41360',\n",
        "    'Maricopa': '46903',\n",
        "    'Pearland': '113570',\n",
        "    'Sparks': '98345',\n",
        "    'Evanston': '74895',\n",
        "    'San Clemente': '65309',\n",
        "    'Hesperia': '93724',\n",
        "    'Port St. Lucie': '185132',\n",
        "    'Reading': '87575',\n",
        "    'Rosemead': '54500',\n",
        "    'Gilbert': '237133',\n",
        "    'Laredo': '257156',\n",
        "    'Folsom': '77271',\n",
        "    'Bossier City': '68485',\n",
        "    'Elizabeth': '128640',\n",
        "    'Westland': '81545',\n",
        "    'Everett': '109043',\n",
        "    'Hawthorne': '88031',\n",
        "    'Dubuque': '58531',\n",
        "    'Hilton Head Island': '40500',\n",
        "    'Palm Bay': '110104',\n",
        "    'Newport News': '181825',\n",
        "    'Hanford': '55547',\n",
        "    'Manchester': '110506',\n",
        "    'Chino': '87776',\n",
        "    'Euless': '54769',\n",
        "    'Cranston': '81034',\n",
        "    'Miami Beach': '91917',\n",
        "    'St. Charles': '69293',\n",
        "    'Florissant': '51776',\n",
        "    'Diamond Bar': '56793',\n",
        "    'Iowa City': '74398',\n",
        "    'Kentwood': '51689',\n",
        "    'Barnstable Town': '44254',\n",
        "    'Frisco': '163656',\n",
        "    'Tucson': '530706',\n",
        "    'Apopka': '49458',\n",
        "    'Urbandale': '43018',\n",
        "    'St. Louis Park': '48747',\n",
        "    'Westfield': '41552',\n",
        "    'Redwood City': '84950',\n",
        "    'Buffalo': '256902',\n",
        "    'Cambridge': '110651',\n",
        "    'Lake Oswego': '38945',\n",
        "    'Boston': '673184',\n",
        "    'Kennewick': '80454',\n",
        "    'Dayton': '140489',\n",
        "    'Delray Beach': '67371',\n",
        "    'Layton': '75655',\n",
        "    'Owensboro': '59273',\n",
        "    'Sunrise': '93734',\n",
        "    'Arlington Heights': '75525',\n",
        "    'Huntington': '48113',\n",
        "    'Erie': '98593',\n",
        "    'Longview': '82055',\n",
        "    'Norwalk': '106178',\n",
        "    'Sanford': '58605',\n",
        "    'Ontario': '173212',\n",
        "    'Eastvale': '61151',\n",
        "    'Georgetown': '67140',\n",
        "    'Noblesville': '60183',\n",
        "    'Jackson': '169148',\n",
        "    'Hollywood': '151998',\n",
        "    'New Braunfels': '73959',\n",
        "    'Miramar': '138449',\n",
        "    'West Haven': '54516',\n",
        "    'Prescott Valley': '43132',\n",
        "    'Novi': '59211',\n",
        "    'Rancho Palos Verdes': '42435',\n",
        "    'Placentia': '52228',\n",
        "    'Miami Gardens': '113058',\n",
        "    'Alhambra': '85474',\n",
        "    'Jeffersonville': '47124',\n",
        "    'Blue Springs': '54431',\n",
        "    'Shreveport': '194920',\n",
        "    'Escondido': '151613',\n",
        "    'Mesa': '484587',\n",
        "    'Cathedral City': '54056',\n",
        "    'Sioux City': '82872',\n",
        "    'Lincoln': '280364',\n",
        "    'Great Falls': '59178',\n",
        "    'Vineland': '60525',\n",
        "    'Rockville': '66940',\n",
        "    'Hagerstown': '40452',\n",
        "    'La Crosse': '52109',\n",
        "    'Fort Smith': '88133',\n",
        "    'Tinley Park': '56831',\n",
        "    'Malden': '60840',\n",
        "    'Beverly': '41365',\n",
        "    'Lawton': '94653',\n",
        "    'Flower Mound': '73547',\n",
        "    'Kalamazoo': '75984',\n",
        "    'Wichita Falls': '104724',\n",
        "    'Concord': '128726',\n",
        "    'Morgan Hill': '44155',\n",
        "    'Anderson': '55130',\n",
        "    'Schertz': '39453',\n",
        "    'Auburn': '77472',\n",
        "    'New York': '8537673',\n",
        "    'Hendersonville': '57050',\n",
        "    'Hurst': '39160',\n",
        "    'Casper': '59324',\n",
        "    'Ormond Beach': '42162',\n",
        "    'Buena Park': '83156',\n",
        "    'Haltom City': '44361',\n",
        "    'Rockwall': '43586',\n",
        "    'Abilene': '122225',\n",
        "    'Crystal Lake': '40339',\n",
        "    'Lubbock': '252506',\n",
        "    'Sumter': '40723',\n",
        "    'Philadelphia': '1567872',\n",
        "    'Westminster': '113875',\n",
        "    'Downey': '113267',\n",
        "    'Parma': '79425',\n",
        "    'Danville': '44631',\n",
        "    'DeKalb': '43194',\n",
        "    'Fort Myers': '77146',\n",
        "    'North Lauderdale': '43699',\n",
        "    'Torrance': '147195',\n",
        "    'Odessa': '117871',\n",
        "    'Sayreville': '44905',\n",
        "    'Shoreline': '55333',\n",
        "    'Muskogee': '38352',\n",
        "    'Mankato': '41720',\n",
        "    'Linden': '42457',\n",
        "    'Logan': '50676',\n",
        "    'Grand Junction': '61881',\n",
        "    'Grand Rapids': '196445',\n",
        "    'Carpentersville': '38291',\n",
        "    'Antioch': '110898',\n",
        "    'Sheboygan': '48686',\n",
        "    'Appleton': '74370',\n",
        "    'Dothan': '68468',\n",
        "    'Decatur': '72706',\n",
        "    'Pueblo': '110291',\n",
        "    'Greenacres': '40013',\n",
        "    'Hallandale Beach': '39500',\n",
        "    'Elk Grove': '169743',\n",
        "    'Cape Girardeau': '39628',\n",
        "    'Ogden': '86701',\n",
        "    'Frederick': '70060',\n",
        "    'Lafayette': '127626',\n",
        "    'Manassas': '41483',\n",
        "    'Prescott': '42513',\n",
        "    'Kannapolis': '47839',\n",
        "    'San Bernardino': '216239',\n",
        "    'Pleasant Grove': '38756',\n",
        "    'Romeoville': '39706',\n",
        "    'El Centro': '44201',\n",
        "    'Galveston': '50550',\n",
        "    'Trenton': '84056',\n",
        "    'Fall River': '88930',\n",
        "    'Chapel Hill': '59246',\n",
        "    'Coral Gables': '50815',\n",
        "    'Union City': '75322',\n",
        "    'Coon Rapids': '62359',\n",
        "    'Suffolk': '89273',\n",
        "    'Lauderhill': '71626',\n",
        "    'Encinitas': '63131',\n",
        "    'Bend': '91122',\n",
        "    'La Puente': '40377',\n",
        "    'Corpus Christi': '325733',\n",
        "    'Marion': '38480',\n",
        "    'Duncanville': '39457',\n",
        "    'Hickory': '40567',\n",
        "    'Sierra Vista': '43208',\n",
        "    'Hammond': '77134',\n",
        "    'Shawnee': '65194',\n",
        "    'South Gate': '95538',\n",
        "    'Burnsville': '61290',\n",
        "    'Ames': '66191',\n",
        "    'Davis': '68111',\n",
        "    'Clarksville': '150287',\n",
        "    'Kent': '127514',\n",
        "    'Charleston': '134385',\n",
        "    'Collierville': '49177',\n",
        "    'Lynchburg': '80212',\n",
        "    'Independence': '117030',\n",
        "    'Henderson': '292969',\n",
        "    'Redmond': '62458',\n",
        "    'Tulsa': '403090',\n",
        "    'Laguna Niguel': '65328',\n",
        "    'Sacramento': '495234',\n",
        "    'Johns Creek': '83873',\n",
        "    'Lewisville': '104659',\n",
        "    'York': '43859',\n",
        "    'Fishers': '90127',\n",
        "    'DeSoto': '52599',\n",
        "    'Biloxi': '45975',\n",
        "    'Whittier': '86883',\n",
        "    'Camarillo': '67363',\n",
        "    'Redlands': '71288',\n",
        "    'The Colony': '42408',\n",
        "    'Saginaw': '48984',\n",
        "    'Altamonte Springs': '43492',\n",
        "    'Dublin': '59583',\n",
        "    'Jefferson City': '43013',\n",
        "    'Cedar Rapids': '131127',\n",
        "    'Mentor': '46732',\n",
        "    'Sherman': '41567',\n",
        "    'Rio Rancho': '96028',\n",
        "    'Largo': '83065',\n",
        "    'St. Cloud': '67641',\n",
        "    'Niagara Falls': '48632',\n",
        "    'Santa Clarita': '181972',\n",
        "    'Olympia': '51202',\n",
        "    'Warner Robins': '74388',\n",
        "    'Moore': '61415',\n",
        "    'Sammamish': '63773',\n",
        "    'Washington': '681170',\n",
        "    'Covington': '40797',\n",
        "    'Minneapolis': '413651',\n",
        "    'Cuyahoga Falls': '49206',\n",
        "    'Visalia': '131074',\n",
        "    'Livonia': '94041',\n",
        "    'Salt Lake City': '193744',\n",
        "    'Casa Grande': '54534',\n",
        "    'Allen': '99179',\n",
        "    'Chula Vista': '267172',\n",
        "    'Pawtucket': '71427',\n",
        "    'White Plains': '58241',\n",
        "    'Camden': '74420',\n",
        "    'Manteca': '76908',\n",
        "    'Gulfport': '72076',\n",
        "    'Rochester': '208880',\n",
        "    'Fontana': '209665',\n",
        "    'Knoxville': '186239',\n",
        "    'San Leandro': '90465',\n",
        "    'Arvada': '117453',\n",
        "    'Rapid City': '74048',\n",
        "    'Kokomo': '57799',\n",
        "    'Bremerton': '40675',\n",
        "    'Cheyenne': '64019',\n",
        "    'Grand Forks': '57339',\n",
        "    'Surprise': '132677',\n",
        "    'Downers Grove': '49473',\n",
        "    'San Buenaventura (Ventura)': '109592',\n",
        "    'Evansville': '119477',\n",
        "    'St. Peters': '57289',\n",
        "    'Cicero': '82992',\n",
        "    'Coral Springs': '130059',\n",
        "    'Poway': '50077',\n",
        "    'Southaven': '53214',\n",
        "    'Taylorsville': '60436',\n",
        "    'Pontiac': '59698',\n",
        "    'Hempstead': '55555',\n",
        "    'Wausau': '38872',\n",
        "    'Aurora': '361710',\n",
        "    'Lehi': '61130',\n",
        "    'New Orleans': '391495',\n",
        "    'Elmhurst': '46387',\n",
        "    'Los Angeles': '3976322',\n",
        "    'Strongsville': '44631',\n",
        "    'San Antonio': '1492510',\n",
        "    'Rockford': '147651',\n",
        "    'Marana': '43474',\n",
        "    'Kenner': '67089',\n",
        "    'North Charleston': '109298',\n",
        "    'Bell Gardens': '42806',\n",
        "    'Bridgeport': '145936',\n",
        "    'Hoffman Estates': '51738',\n",
        "    'Blacksburg': '45038',\n",
        "    'Milford': '52536',\n",
        "    'Tustin': '80395',\n",
        "    'Round Rock': '120892',\n",
        "    'Streamwood': '40166',\n",
        "    'College Station': '112141',\n",
        "    'Sugar Land': '88177',\n",
        "    'Pompano Beach': '109393',\n",
        "    'Maplewood': '40150',\n",
        "    'Cupertino': '60643',\n",
        "    'Portsmouth': '95252',\n",
        "    'Daly City': '106472',\n",
        "    'Battle Creek': '51534',\n",
        "    'Santa Fe': '83875',\n",
        "    'Holyoke': '40280',\n",
        "    'Modesto': '212175',\n",
        "    'Mesquite': '143736',\n",
        "    'La Mirada': '49216',\n",
        "    'Eden Prairie': '63914',\n",
        "    'Tacoma': '211277',\n",
        "    'Cypress': '48906',\n",
        "    'Weymouth Town': '55972',\n",
        "    'Palm Springs': '47689',\n",
        "    'Santa Clara': '125948',\n",
        "    'Kearny': '42126',\n",
        "    'Delaware': '38643',\n",
        "    'Fullerton': '140721',\n",
        "    'San Gabriel': '40404',\n",
        "    'Schaumburg': '74446',\n",
        "    'Santa Ana': '334217',\n",
        "    'Riverside': '324722',\n",
        "    'Lompoc': '43712',\n",
        "    'Temple': '73600',\n",
        "    'Peachtree Corners': '42773',\n",
        "    'Cary': '162320',\n",
        "    'Victorville': '122265',\n",
        "    'Johnson City': '66677',\n",
        "    'Chicago': '2704958',\n",
        "    'Cape Coral': '179804',\n",
        "    'Farmington': '41629',\n",
        "    'Apex': '47349',\n",
        "    'El Cajon': '103768',\n",
        "    'Marietta': '60941',\n",
        "    'Mansfield': '65631',\n",
        "    'Perris': '76331',\n",
        "    'Twin Falls': '48260',\n",
        "    'League City': '102010',\n",
        "    'Germantown': '39056',\n",
        "    'Rohnert Park': '42622',\n",
        "    'New Bedford': '95032',\n",
        "    'Port Arthur': '55427',\n",
        "    'Leominster': '41663',\n",
        "    'Puyallup': '40640',\n",
        "    'Wellington': '63900',\n",
        "    'West Allis': '60087',\n",
        "    'Anaheim': '351043',\n",
        "    'Richardson': '113347',\n",
        "    'Fayetteville': '204759',\n",
        "    'Davenport': '102612',\n",
        "    'New Brunswick': '56910',\n",
        "    'Sterling Heights': '132427',\n",
        "    'Elgin': '112123',\n",
        "    \"Lee's Summit\": '96076',\n",
        "    'Conway': '65300',\n",
        "    'Deltona': '90124',\n",
        "    'North Miami Beach': '43891',\n",
        "    'Merced': '82594',\n",
        "    'Worcester': '184508',\n",
        "    'Delano': '52707',\n",
        "    'Martinez': '38259',\n",
        "    'Salem': '167419',\n",
        "    'Bethlehem': '75293',\n",
        "    'St. George': '82318',\n",
        "    'Cleveland': '385809',\n",
        "    'Campbell': '40939',\n",
        "    'Lynwood': '71187',\n",
        "    'Leesburg': '52607',\n",
        "    'Somerville': '81322',\n",
        "    'City': '2016 Population',\n",
        "    'Temecula': '113054',\n",
        "    'Inglewood': '110654',\n",
        "    'Bismarck': '72417',\n",
        "    'Murrieta': '111674',\n",
        "    'Pensacola': '53779',\n",
        "    'Hackensack': '44756',\n",
        "    'Plantation': '92706',\n",
        "    'St. Clair Shores': '59775',\n",
        "    'Coachella': '44953',\n",
        "    'Chandler': '247477',\n",
        "    'Lowell': '110558',\n",
        "    'Oak Lawn': '56257',\n",
        "    'Mishawaka': '48679',\n",
        "    'Norwich': '39556',\n",
        "    'Huntsville': '193079',\n",
        "    'Lake Havasu City': '53743',\n",
        "    'Amarillo': '199582',\n",
        "    'Hemet': '84281',\n",
        "    'Mobile': '192904',\n",
        "    'Fort Pierce': '45295',\n",
        "    'Rancho Cordova': '72326',\n",
        "    'San Ramon': '75639',\n",
        "    'Oshkosh': '66579',\n",
        "    'Muskegon': '38349',\n",
        "    'Plano': '286057',\n",
        "    'Beaverton': '97590',\n",
        "    'Waukesha': '72363',\n",
        "    'San Angelo': '100702',\n",
        "    'Centennial': '109932',\n",
        "    'Bakersfield': '376380',\n",
        "    'Gastonia': '75536',\n",
        "    'Chelsea': '39699',\n",
        "    'Anchorage': '298192',\n",
        "    'Athens-Clarke County': '123371',\n",
        "    'Freeport': '43279',\n",
        "    'Kansas City': '481420',\n",
        "    'Skokie': '64270',\n",
        "    'Deerfield Beach': '79764',\n",
        "    'Culver City': '39364',\n",
        "    'Raleigh': '458880',\n",
        "    'Bristol': '60147',\n",
        "    'Glendale': '245895',\n",
        "    'Monroe': '49297',\n",
        "    'Rialto': '103314',\n",
        "    'Carmel': '91065',\n",
        "    'Houston': '2303482',\n",
        "    'Hampton': '135410',\n",
        "    'Garland': '234943',\n",
        "    'Cleveland Heights': '44633',\n",
        "    'Gresham': '111523',\n",
        "    'Reno': '245255',\n",
        "    'Council Bluffs': '62524',\n",
        "    'Citrus Heights': '87432',\n",
        "    'Des Moines': '215472',\n",
        "    'Milwaukee': '595047',\n",
        "    'Portland': '639863',\n",
        "    'Elkhart': '52221',\n",
        "    'St. Paul': '302398',\n",
        "    'Roanoke': '99660',\n",
        "    'Albany': '98111',\n",
        "    'Middletown': '48813',\n",
        "    'Richland': '54989',\n",
        "    'Woodland': '59068',\n",
        "    'Provo': '116868',\n",
        "    'Titusville': '46019',\n",
        "    'Tamarac': '65199',\n",
        "    'Tyler': '104798',\n",
        "    'Indian Trail': '38222',\n",
        "    'Santa Rosa': '175155',\n",
        "    'San Francisco': '870887',\n",
        "    'Plant City': '38200',\n",
        "    'Yuma': '94906',\n",
        "    'Spokane Valley': '96340',\n",
        "    'Bellevue': '141400',\n",
        "    'Champaign': '86637',\n",
        "    'Shakopee': '40610',\n",
        "    'Grand Prairie': '190682',\n",
        "    'Victoria': '67670',\n",
        "    'Flint': '97386',\n",
        "    'Marysville': '67626',\n",
        "    'Berkeley': '121240',\n",
        "    'Oakley': '40622',\n",
        "    'Dearborn': '94444',\n",
        "    'Palmdale': '157356',\n",
        "    'Chicopee': '55991',\n",
        "    'Tampa': '377165',\n",
        "    'Greenwood': '56545',\n",
        "    'Palm Desert': '52231',\n",
        "    'East Orange': '64789',\n",
        "    'Pine Bluff': '43841',\n",
        "    'Corona': '166785',\n",
        "    'Winston-Salem': '242203',\n",
        "    'Bellingham': '87574',\n",
        "    'Burleson': '45016',\n",
        "    'Castle Rock': '57666',\n",
        "    'Attleboro': '44434',\n",
        "    'Canton': '71323',\n",
        "    'Walnut Creek': '69122',\n",
        "    'Alexandria': '155810',\n",
        "    'Cincinnati': '298800',\n",
        "    'Fresno': '522053',\n",
        "    'West Covina': '107847',\n",
        "    'Kingsport': '52806',\n",
        "    'Hialeah': '236387',\n",
        "    'Long Beach': '470130',\n",
        "    'Troy': '83641',\n",
        "    'Durham': '263016',\n",
        "    'Wilkes-Barre': '40569',\n",
        "    'San Jacinto': '47413',\n",
        "    'San Marcos': '95261',\n",
        "    'Naperville': '147122',\n",
        "    'Warren': '135125',\n",
        "    'Rock Hill': '72937',\n",
        "    'Milpitas': '77528',\n",
        "    'Santee': '57834',\n",
        "    'Lynn': '92697',\n",
        "    'Caldwell': '53149',\n",
        "    'Gainesville': '131591',\n",
        "    'Palatine': '68766',\n",
        "    'Napa': '80416',\n",
        "    'Baytown': '75992',\n",
        "    'Louisville/Jefferson County': '616261',\n",
        "    'Baldwin Park': '76464',\n",
        "    'National City': '61147',\n",
        "    'Muncie': '69010',\n",
        "    'Goodyear': '77258',\n",
        "    'Meridian': '95623',\n",
        "    'Eugene': '166575',\n",
        "    'Murfreesboro': '131947',\n",
        "    'Jersey City': '264152',\n",
        "    'Draper': '47328',\n",
        "    'Passaic': '70635',\n",
        "    'Pittsburgh': '303625',\n",
        "    'Yakima': '93986',\n",
        "    'Albuquerque': '559277',\n",
        "    'Nashville-Davidson': '660388',\n",
        "    'North Richland Hills': '69798',\n",
        "    'Brockton': '95630',\n",
        "    'Syracuse': '143378',\n",
        "    'Arcadia': '58523',\n",
        "    'Spokane': '215973',\n",
        "    'Killeen': '143400',\n",
        "    'Wichita': '389902',\n",
        "    'San Jose': '1025350',\n",
        "    'Davie': '101871',\n",
        "    'High Point': '111223',\n",
        "    'Las Cruces': '101759',\n",
        "    'Longmont': '92858',\n",
        "    'Margate': '57870',\n",
        "    'Brownsville': '183823',\n",
        "    'Oviedo': '39337',\n",
        "    'Madison': '252551',\n",
        "    'Taylor': '61177',\n",
        "    'Fort Collins': '164207',\n",
        "    'Westerville': '38985',\n",
        "    'Atlantic City': '38735',\n",
        "    'Peabody': '52491',\n",
        "    'Commerce City': '54869',\n",
        "    'Tuscaloosa': '99543',\n",
        "    'Roy': '38201',\n",
        "    'Blaine': '62892',\n",
        "    'La Habra': '61664',\n",
        "    'Huntington Beach': '200652',\n",
        "    'Keizer': '38980',\n",
        "    'Brooklyn Park': '79707',\n",
        "    'Rancho Cucamonga': '176534',\n",
        "    'Pasco': '70579',\n",
        "    'Salina': '47336',\n",
        "    'Midland': '134610',\n",
        "    'Dallas': '1317929',\n",
        "    'Urbana': '42014',\n",
        "    'Novato': '56004',\n",
        "    'Winter Haven': '38953',\n",
        "    'Greenville': '91495',\n",
        "    'St. Petersburg': '260999',\n",
        "    'Fairfield': '114756',\n",
        "    'Portage': '48508',\n",
        "    'Meriden': '59622',\n",
        "    'Tulare': '62779',\n",
        "    'Corvallis': '57110',\n",
        "    'Racine': '77571',\n",
        "    'Boulder': '108090',\n",
        "    'Fort Lauderdale': '178752',\n",
        "    'Findlay': '41422',\n",
        "    'Norman': '122180',\n",
        "    'Lawrence': '95358',\n",
        "    'Aliso Viejo': '51424',\n",
        "    'Baton Rouge': '227715',\n",
        "    'Asheville': '89121',\n",
        "    'Santa Cruz': '64465',\n",
        "    'Newport Beach': '86688',\n",
        "    'Binghamton': '45672',\n",
        "    'Billings': '110323',\n",
        "    'Olathe': '135473',\n",
        "    'Kissimmee': '69369',\n",
        "    'Vacaville': '98303',\n",
        "    'Calexico': '40232',\n",
        "    'Homestead': '67996',\n",
        "    'Green Bay': '105139',\n",
        "    'Bryan': '83260',\n",
        "    'Boca Raton': '96114',\n",
        "    'Bedford': '49528',\n",
        "    \"Coeur d'Alene\": '50285',\n",
        "    'Hutchinson': '41310',\n",
        "    'Little Rock': '198541',\n",
        "    'Detroit': '672795',\n",
        "    'Lake Forest': '83240',\n",
        "    'Belleville': '41906',\n",
        "    'Franklin': '74794',\n",
        "    'Porterville': '58978',\n",
        "    'New Berlin': '39803',\n",
        "    'Highland': '54939',\n",
        "    'Austin': '947890',\n",
        "    'Greensboro': '287027',\n",
        "    'Southfield': '73100',\n",
        "    'Lake Elsinore': '64205',\n",
        "    'Stockton': '307072',\n",
        "    'Mission Viejo': '96396',\n",
        "    'Mount Vernon': '68344',\n",
        "    'Greeley': '103990',\n",
        "    'Madera': '64444',\n",
        "    'Murray': '49230',\n",
        "    'Pleasanton': '82270',\n",
        "    'Lombard': '43815',\n",
        "    'Lakeville': '61938',\n",
        "    'North Miami': '62139',\n",
        "    'Gaithersburg': '67776',\n",
        "    'Florence': '39959',\n",
        "    'Bentonville': '47093',\n",
        "    'Lancaster': '160106',\n",
        "    'Vista': '101659',\n",
        "    'Wylie': '47701',\n",
        "    'Yonkers': '200807',\n",
        "    'Springdale': '78557',\n",
        "    'Huntington Park': '58879',\n",
        "    'Dearborn Heights': '55761',\n",
        "    'Texas City': '48262',\n",
        "    'Pflugerville': '59245',\n",
        "    'Carson': '92797',\n",
        "    'Fargo': '120762',\n",
        "    'Idaho Falls': '60211',\n",
        "    'Vancouver': '174826',\n",
        "    'Little Elm': '42504',\n",
        "    'Hillsboro': '105164',\n",
        "    'Springfield': '167319',\n",
        "    'Coconut Creek': '59405',\n",
        "    'Weston': '70015',\n",
        "    'Wauwatosa': '47945',\n",
        "    'Tempe': '182498',\n",
        "    'Woodbury': '68820',\n",
        "    'Simi Valley': '126327',\n",
        "    'St. Joseph': '76472',\n",
        "    'Farmington Hills': '81129',\n",
        "    'South Jordan': '69034',\n",
        "    'Tracy': '89274',\n",
        "    'Hayward': '158937',\n",
        "    'Jacksonville': '880619',\n",
        "    'Milton': '38411',\n",
        "    'Carson City': '54742',\n",
        "    'Omaha': '446970',\n",
        "    'Northglenn': '38982',\n",
        "    'Yuba City': '66845',\n",
        "    'Wilmington': '117525',\n",
        "    'Gardena': '60048',\n",
        "    'Melbourne': '81185',\n",
        "    'Plymouth': '77216',\n",
        "    'Palo Alto': '67024',\n",
        "    \"O'Fallon\": '86274',\n",
        "    'Eau Claire': '68339',\n",
        "    'Baltimore': '614664',\n",
        "    'Brentwood': '60532',\n",
        "    'New Haven': '129934',\n",
        "    'Covina': '48549',\n",
        "    'Pittsfield': '42846',\n",
        "    'Roswell': '94598',\n",
        "    'Taunton': '56843',\n",
        "    'Tupelo': '38842',\n",
        "    'Clifton': '85845',\n",
        "    'Mission': '83563',\n",
        "    'Montebello': '63335',\n",
        "    'West Sacramento': '52981',\n",
        "    'La Mesa': '59948',\n",
        "    'Royal Oak': '59006',\n",
        "    'Stamford': '129113',\n",
        "    'Keller': '46646',\n",
        "    'Moorhead': '42492',\n",
        "    'Oakland': '420005',\n",
        "    'Peoria': '164173',\n",
        "    'Burien': '50997'\n",
        "}"
      ]
    },
    {
      "cell_type": "code",
      "execution_count": null,
      "metadata": {
        "ExecuteTime": {
          "end_time": "2022-02-18T13:44:11.102866Z",
          "start_time": "2022-02-18T13:44:10.556929Z"
        },
        "id": "JlZ55ksafzB9"
      },
      "outputs": [],
      "source": [
        "df['city_population'] = df['city_or_county'].apply(\n",
        "    lambda x: int(population_in_2016[x]) if x in population_in_2016 else 0)\n",
        "\n",
        "tempdf = df.groupby(by=['city_or_county']).agg({\n",
        "    'n_killed': 'sum',\n",
        "    'n_injured': 'sum',\n",
        "    'city_population': 'mean',\n",
        "    'state': 'count'\n",
        "}).reset_index().rename(\n",
        "    columns={\n",
        "        'state': 'total_incidents',\n",
        "        'n_killed': 'total_killed',\n",
        "        'n_injured': 'total_injured'\n",
        "    })\n",
        "tempdf['incidents_population_ratio'] = 1000 * tempdf['total_incidents'] / (\n",
        "    tempdf['city_population'] + 1)\n",
        "tempdf['killed_population_ratio'] = 1000 * tempdf['total_killed'] / (\n",
        "    tempdf['city_population'] + 1)\n",
        "tempdf['injured_population_ratio'] = 1000 * tempdf['total_injured'] / (\n",
        "    tempdf['city_population'] + 1)\n",
        "tempdf['loss_population_ratio'] = 1000 * (tempdf['total_killed'] +\n",
        "                                          tempdf['total_injured']) / (\n",
        "                                              tempdf['city_population'] + 1)\n",
        "\n",
        "i_p = tempdf.sort_values(['incidents_population_ratio'], ascending=[False])\n",
        "i_p = i_p[i_p['city_population'] > 500000][:25]\n",
        "sns.set(rc={'figure.figsize': (12, 8)})\n",
        "ax = sns.barplot(y='city_or_county',\n",
        "                 x='incidents_population_ratio',\n",
        "                 data=i_p,\n",
        "                 color='green')\n",
        "ax.set(xlabel='GunViolence Incidents and CityPopulation in 2016',\n",
        "       ylabel='City')\n",
        "\n",
        "i_p = tempdf.sort_values(['killed_population_ratio'], ascending=[False])\n",
        "i_p = i_p[i_p['city_population'] > 500000][:25]\n",
        "sns.set(rc={'figure.figsize': (12, 8)})\n",
        "ax = sns.barplot(y='city_or_county',\n",
        "                 x='killed_population_ratio',\n",
        "                 data=i_p,\n",
        "                 color='red')\n",
        "ax.set(xlabel='Ratio of PeopleKilled and City Population in 2016',\n",
        "       ylabel='City');"
      ]
    },
    {
      "cell_type": "markdown",
      "metadata": {
        "id": "LftYTQ5DfzB-"
      },
      "source": [
        "Baltimore,Las Vegas and Memphis comes on the top for Ratio of People Killed and City Population in 2016"
      ]
    },
    {
      "cell_type": "markdown",
      "metadata": {
        "id": "wLNylrIpfzB-"
      },
      "source": [
        "**Most Serious Gun Violence Incidents**"
      ]
    },
    {
      "cell_type": "markdown",
      "metadata": {
        "id": "c6ET-NAcfzB-"
      },
      "source": [
        "now let's take a look at most serious incidents"
      ]
    },
    {
      "cell_type": "code",
      "execution_count": null,
      "metadata": {
        "ExecuteTime": {
          "end_time": "2022-02-18T13:41:50.456459Z",
          "start_time": "2022-02-18T13:41:50.210499Z"
        },
        "id": "XraHNdyPfzB_"
      },
      "outputs": [],
      "source": [
        "df1 = df.sort_values(['violence'], ascending=[False])\n",
        "df1[['date', 'state', 'city_or_county', 'address', 'n_killed',\n",
        "     'n_injured']].head(10)"
      ]
    },
    {
      "cell_type": "markdown",
      "metadata": {
        "id": "6ybNoGtwfzCA"
      },
      "source": [
        "we can conclude that in `Las Vegas,Orlando,Sutherland Springs has most number of deaths happened so far due to gun violence`"
      ]
    },
    {
      "cell_type": "markdown",
      "metadata": {
        "id": "oHGWCtlRfzCA"
      },
      "source": [
        "**incidents happend ploting on map**"
      ]
    },
    {
      "cell_type": "markdown",
      "metadata": {
        "id": "m5ae97wbfzCA"
      },
      "source": [
        "**Here are the visuals for the violence of incident** \n",
        "\n",
        "<font color='green'>**violence is marked in green**</font>"
      ]
    },
    {
      "cell_type": "code",
      "execution_count": null,
      "metadata": {
        "ExecuteTime": {
          "end_time": "2022-02-18T13:41:51.068033Z",
          "start_time": "2022-02-18T13:41:50.457434Z"
        },
        "id": "pBxKtdxcfzCB"
      },
      "outputs": [],
      "source": [
        "map_df = df[df['n_killed'] >= 3][[\n",
        "    'latitude', 'longitude', 'violence', 'n_killed'\n",
        "]].dropna()\n",
        "map1 = folium.Map(location=[51.416852, -128.961881],\n",
        "                  tiles='CartoDB dark_matter',\n",
        "                  zoom_start=3)\n",
        "map2 = folium.Map([51.416852, -128.961881],\n",
        "                  zoom_start=3.5,\n",
        "                  tiles='cartodbdark_matter')\n",
        "colors = {\n",
        "    0: \"#FEFFFF\",\n",
        "    1: \"#FEFFFF\",\n",
        "    2: \"#FEFFFF\",\n",
        "    3: \"#FDFEBE\",\n",
        "    4: \"#FDFEBE\",\n",
        "    5: \"#FDFEBE\",\n",
        "    6: \"#FEED9A\",\n",
        "    7: \"#FEED9A\",\n",
        "    8: \"#FEED9A\",\n",
        "    9: \"#FED779\",\n",
        "    10: \"#FED779\",\n",
        "    11: \"#FED779\",\n",
        "    12: \"#FFB54D\",\n",
        "    13: \"#FFB54D\",\n",
        "    14: \"#FFB54D\",\n",
        "    15: \"#FE8D36\",\n",
        "    16: \"#FE8D36\",\n",
        "    17: \"#FE8D36\",\n",
        "    18: \"#FF4936\",\n",
        "    19: \"#FF4936\",\n",
        "    20: \"#FF4936\",\n",
        "    21: \"#DF1D10\",\n",
        "    25: \"#DF1D10\",\n",
        "    27: \"#DF1D10\",\n",
        "    34: \"#BE0128\",\n",
        "    35: \"#BE0128\",\n",
        "    47: \"#BE0128\",\n",
        "    103: \"#810026\",\n",
        "    548: \"#810026\"\n",
        "}\n",
        "for i, row in map_df.iterrows():\n",
        "    loss = row['violence']\n",
        "    if row['violence'] > 100:\n",
        "        loss = row['violence'] * 0.1\n",
        "    folium.CircleMarker([float(row['latitude']),\n",
        "                         float(row['longitude'])],\n",
        "                        radius=0.1,\n",
        "                        color=colors[row['violence']],\n",
        "                        fill=True).add_to(map1)\n",
        "\n",
        "map1"
      ]
    },
    {
      "cell_type": "markdown",
      "metadata": {
        "id": "rpOD9u_qfzCC"
      },
      "source": [
        "**number of guns involved per incident**"
      ]
    },
    {
      "cell_type": "code",
      "execution_count": null,
      "metadata": {
        "ExecuteTime": {
          "end_time": "2022-02-18T13:41:51.290785Z",
          "start_time": "2022-02-18T13:41:51.068994Z"
        },
        "id": "dWUcuLZZfzCC"
      },
      "outputs": [],
      "source": [
        "df['n_guns'] = df['n_guns_involved'].apply(lambda x: \"10+\"\n",
        "                                           if x >= 10 else str(x))\n",
        "# df['n_guns'].value_counts()\n",
        "tempdf = df['n_guns'].value_counts().reset_index()\n",
        "tempdf = tempdf[tempdf['index'] != 'nan']\n",
        "\n",
        "labels = list(tempdf['index'])\n",
        "values = list(tempdf['n_guns'])\n",
        "\n",
        "fig = px.bar(y=labels, x=values, text=values, title='Number of guns used')\n",
        "fig.update_traces(texttemplate='%{text:.2s}', textposition='outside')\n",
        "fig.update_layout(uniformtext_minsize=8, uniformtext_mode='hide')\n",
        "fig.show()"
      ]
    },
    {
      "cell_type": "markdown",
      "metadata": {
        "id": "vEbTuncIfzCE"
      },
      "source": [
        "`single gun is used the most during the gun violence`"
      ]
    },
    {
      "cell_type": "markdown",
      "metadata": {
        "id": "37aIRYVDfzCF"
      },
      "source": [
        "**Incident characteristics per year**"
      ]
    },
    {
      "cell_type": "markdown",
      "metadata": {
        "id": "Z1eDmOyVfzCH"
      },
      "source": [
        "Now,take a look at the incident characteristics for the violence throughout the dataset"
      ]
    },
    {
      "cell_type": "code",
      "execution_count": null,
      "metadata": {
        "ExecuteTime": {
          "end_time": "2022-02-18T13:41:51.536497Z",
          "start_time": "2022-02-18T13:41:51.293777Z"
        },
        "id": "KKYbkzB-fzCI"
      },
      "outputs": [],
      "source": [
        "from collections import Counter\n",
        "\n",
        "big_text = \"||\".join(df['incident_characteristics'].dropna()).split(\"||\")\n",
        "incidents = Counter(big_text).most_common(20)\n",
        "xx = [x[0] for x in incidents]\n",
        "yy = [x[1] for x in incidents]\n",
        "\n",
        "fig = px.bar(y=xx, x=yy, text=yy, title='Incident characteristics per year')\n",
        "fig.update_traces(texttemplate='%{text:.2s}', textposition='outside')\n",
        "fig.update_layout(uniformtext_minsize=8, uniformtext_mode='hide')\n",
        "fig.show()"
      ]
    },
    {
      "cell_type": "markdown",
      "metadata": {
        "id": "6oJLFkYWfzCI"
      },
      "source": [
        "`Participants are trying to make it violent by just leaving a person without killing them this means that they intentionally wants to create the violence`"
      ]
    },
    {
      "cell_type": "markdown",
      "metadata": {
        "id": "_9GoeZMrfzCJ"
      },
      "source": [
        "In the USA around 17k incidents were of Drug involvement"
      ]
    },
    {
      "cell_type": "markdown",
      "metadata": {
        "id": "4zo21YuBfzCJ"
      },
      "source": [
        "**Age wise involvement**"
      ]
    },
    {
      "cell_type": "markdown",
      "metadata": {
        "id": "J1COYDybfzCJ"
      },
      "source": [
        "**age wise involvement of participants**"
      ]
    },
    {
      "cell_type": "code",
      "execution_count": null,
      "metadata": {
        "ExecuteTime": {
          "end_time": "2022-02-18T13:42:14.000050Z",
          "start_time": "2022-02-18T13:41:51.538219Z"
        },
        "id": "yx4oRlBYfzCK"
      },
      "outputs": [],
      "source": [
        "def get_user_mapping(txt):\n",
        "    if txt == \"NA\":\n",
        "        return {}\n",
        "    mapping = {}\n",
        "    for d in txt.split(\"||\"):\n",
        "        try:\n",
        "            key = d.split(\"::\")[0]\n",
        "            val = d.split(\"::\")[1]\n",
        "            if key not in mapping:\n",
        "                mapping[key] = val\n",
        "        except:\n",
        "            pass\n",
        "    return mapping\n",
        "\n",
        "\n",
        "df['participant_type'] = df['participant_type'].fillna(\"NA\")\n",
        "df['participant_type_map'] = df['participant_type'].apply(\n",
        "    lambda x: get_user_mapping(x))\n",
        "df['participant_age'] = df['participant_age'].fillna(\"NA\")\n",
        "df['participant_age_map'] = df['participant_age'].apply(\n",
        "    lambda x: get_user_mapping(x))\n",
        "df['participant_gender'] = df['participant_gender'].fillna(\"NA\")\n",
        "df['participant_gender_map'] = df['participant_gender'].apply(\n",
        "    lambda x: get_user_mapping(x))\n",
        "\n",
        "## Finding the Suspect Age Groups\n",
        "suspect_age_groups = {}\n",
        "for i, row in df.iterrows():\n",
        "    suspects = []\n",
        "    for k, v in row['participant_type_map'].items():\n",
        "        if \"suspect\" in v.lower():\n",
        "            suspects.append(k)\n",
        "    for suspect in suspects:\n",
        "        if suspect in row['participant_age_map']:\n",
        "            ag = row['participant_age_map'][suspect]\n",
        "            if ag not in suspect_age_groups:\n",
        "                suspect_age_groups[ag] = 0\n",
        "            else:\n",
        "                suspect_age_groups[ag] += 1\n",
        "\n",
        "age = pd.DataFrame(list(suspect_age_groups.items()), columns=['age', 'count'])\n",
        "age.sort_values('count', inplace=True)\n",
        "\n",
        "fig = px.bar(y='count',\n",
        "             x='age',\n",
        "             text='count',\n",
        "             title='Age wise involvement of participants',\n",
        "             data_frame=age[4:],\n",
        "             color='count')\n",
        "fig.update_traces(texttemplate='%{text:.2s}', textposition='outside')\n",
        "fig.update_layout(uniformtext_minsize=8, uniformtext_mode='hide')\n",
        "fig.show()"
      ]
    },
    {
      "cell_type": "markdown",
      "metadata": {
        "id": "dRZePAr6fzCL"
      },
      "source": [
        "Participants from the age group 18,19,20 till the age 25 are most involved in the violence this is the reason that there is a rise in lack of profitable employment."
      ]
    },
    {
      "cell_type": "markdown",
      "metadata": {
        "id": "_QYozkYefzCL"
      },
      "source": [
        "**age wise involvement of victims**"
      ]
    },
    {
      "cell_type": "code",
      "execution_count": null,
      "metadata": {
        "ExecuteTime": {
          "end_time": "2022-02-18T13:42:35.312991Z",
          "start_time": "2022-02-18T13:42:14.001047Z"
        },
        "id": "CyHV4iSefzCM"
      },
      "outputs": [],
      "source": [
        "victim_age_groups = {}\n",
        "for i, row in df.iterrows():\n",
        "    victims = []\n",
        "    for k, v in row['participant_type_map'].items():\n",
        "        if \"victim\" in v.lower():\n",
        "            victims.append(k)\n",
        "    for victim in victims:\n",
        "        if victim in row['participant_age_map']:\n",
        "            ag = row['participant_age_map'][victim]\n",
        "            if ag not in victim_age_groups:\n",
        "                victim_age_groups[ag] = 0\n",
        "            else:\n",
        "                victim_age_groups[ag] += 1\n",
        "\n",
        "age = pd.DataFrame(list(victim_age_groups.items()), columns=['age', 'count'])\n",
        "age.sort_values('count', inplace=True)\n",
        "\n",
        "fig = px.bar(y='count',\n",
        "             x='age',\n",
        "             text='count',\n",
        "             title='Age wise involvement of victims',\n",
        "             data_frame=age[4:],\n",
        "             color='count')\n",
        "fig.update_traces(texttemplate='%{text:.2s}', textposition='outside')\n",
        "fig.update_layout(uniformtext_minsize=8, uniformtext_mode='hide')\n",
        "fig.show()"
      ]
    },
    {
      "cell_type": "markdown",
      "metadata": {
        "id": "xJzB7wNtfzCN"
      },
      "source": [
        "They are killing the same age group while the childrens below the age of 15 are getting killed.Also the newly born childs below the age of 5 are getting killed."
      ]
    },
    {
      "cell_type": "markdown",
      "metadata": {
        "id": "3SnToJ5sfzCN"
      },
      "source": [
        "**Year wise review of laws**"
      ]
    },
    {
      "cell_type": "code",
      "execution_count": null,
      "metadata": {
        "ExecuteTime": {
          "end_time": "2022-02-18T13:42:37.379751Z",
          "start_time": "2022-02-18T13:42:35.314989Z"
        },
        "id": "JNd2t7zYfzCN"
      },
      "outputs": [],
      "source": [
        "state_to_code = {\n",
        "    'District of Columbia': 'dc',\n",
        "    'Mississippi': 'MS',\n",
        "    'Oklahoma': 'OK',\n",
        "    'Delaware': 'DE',\n",
        "    'Minnesota': 'MN',\n",
        "    'Illinois': 'IL',\n",
        "    'Arkansas': 'AR',\n",
        "    'New Mexico': 'NM',\n",
        "    'Indiana': 'IN',\n",
        "    'Maryland': 'MD',\n",
        "    'Louisiana': 'LA',\n",
        "    'Idaho': 'ID',\n",
        "    'Wyoming': 'WY',\n",
        "    'Tennessee': 'TN',\n",
        "    'Arizona': 'AZ',\n",
        "    'Iowa': 'IA',\n",
        "    'Michigan': 'MI',\n",
        "    'Kansas': 'KS',\n",
        "    'Utah': 'UT',\n",
        "    'Virginia': 'VA',\n",
        "    'Oregon': 'OR',\n",
        "    'Connecticut': 'CT',\n",
        "    'Montana': 'MT',\n",
        "    'California': 'CA',\n",
        "    'Massachusetts': 'MA',\n",
        "    'West Virginia': 'WV',\n",
        "    'South Carolina': 'SC',\n",
        "    'New Hampshire': 'NH',\n",
        "    'Wisconsin': 'WI',\n",
        "    'Vermont': 'VT',\n",
        "    'Georgia': 'GA',\n",
        "    'North Dakota': 'ND',\n",
        "    'Pennsylvania': 'PA',\n",
        "    'Florida': 'FL',\n",
        "    'Alaska': 'AK',\n",
        "    'Kentucky': 'KY',\n",
        "    'Hawaii': 'HI',\n",
        "    'Nebraska': 'NE',\n",
        "    'Missouri': 'MO',\n",
        "    'Ohio': 'OH',\n",
        "    'Alabama': 'AL',\n",
        "    'Rhode Island': 'RI',\n",
        "    'South Dakota': 'SD',\n",
        "    'Colorado': 'CO',\n",
        "    'New Jersey': 'NJ',\n",
        "    'Washington': 'WA',\n",
        "    'North Carolina': 'NC',\n",
        "    'New York': 'NY',\n",
        "    'Texas': 'TX',\n",
        "    'Nevada': 'NV',\n",
        "    'Maine': 'ME'\n",
        "}\n",
        "laws_2014 = {\n",
        "    'Mississippi': 5,\n",
        "    'Oklahoma': 9,\n",
        "    'Delaware': 38,\n",
        "    'Minnesota': 39,\n",
        "    'Illinois': 65,\n",
        "    'Arkansas': 11,\n",
        "    'New Mexico': 10,\n",
        "    'Ohio': 15,\n",
        "    'Indiana': 11,\n",
        "    'Maryland': 63,\n",
        "    'Louisiana': 12,\n",
        "    'Texas': 20,\n",
        "    'Wyoming': 6,\n",
        "    'Tennessee': 24,\n",
        "    'Arizona': 8,\n",
        "    'Wisconsin': 24,\n",
        "    'Michigan': 20,\n",
        "    'Kansas': 8,\n",
        "    'Utah': 11,\n",
        "    'Virginia': 12,\n",
        "    'Oregon': 24,\n",
        "    'Connecticut': 85,\n",
        "    'Montana': 4,\n",
        "    'California': 100,\n",
        "    'Idaho': 5,\n",
        "    'West Virginia': 24,\n",
        "    'South Carolina': 12,\n",
        "    'New Hampshire': 10,\n",
        "    'Massachusetts': 101,\n",
        "    'Vermont': 3,\n",
        "    'Georgia': 6,\n",
        "    'North Dakota': 14,\n",
        "    'Pennsylvania': 37,\n",
        "    'Florida': 21,\n",
        "    'Alaska': 3,\n",
        "    'Kentucky': 7,\n",
        "    'Hawaii': 78,\n",
        "    'Nebraska': 22,\n",
        "    'Missouri': 8,\n",
        "    'Iowa': 25,\n",
        "    'Alabama': 10,\n",
        "    'Rhode Island': 43,\n",
        "    'South Dakota': 5,\n",
        "    'Colorado': 30,\n",
        "    'New Jersey': 67,\n",
        "    'Washington': 41,\n",
        "    'North Carolina': 30,\n",
        "    'New York': 76,\n",
        "    'Nevada': 11,\n",
        "    'Maine': 11\n",
        "}\n",
        "laws_2015 = {\n",
        "    'Mississippi': 2,\n",
        "    'Oklahoma': 9,\n",
        "    'Delaware': 38,\n",
        "    'Minnesota': 41,\n",
        "    'Illinois': 65,\n",
        "    'Arkansas': 11,\n",
        "    'New Mexico': 10,\n",
        "    'Ohio': 16,\n",
        "    'Indiana': 11,\n",
        "    'Maryland': 64,\n",
        "    'Louisiana': 12,\n",
        "    'Texas': 20,\n",
        "    'Wyoming': 6,\n",
        "    'Tennessee': 24,\n",
        "    'Arizona': 8,\n",
        "    'Wisconsin': 23,\n",
        "    'Michigan': 21,\n",
        "    'Kansas': 4,\n",
        "    'Utah': 11,\n",
        "    'Virginia': 12,\n",
        "    'Oregon': 33,\n",
        "    'Connecticut': 85,\n",
        "    'Montana': 4,\n",
        "    'California': 102,\n",
        "    'Idaho': 6,\n",
        "    'West Virginia': 24,\n",
        "    'South Carolina': 12,\n",
        "    'New Hampshire': 10,\n",
        "    'Massachusetts': 101,\n",
        "    'Vermont': 6,\n",
        "    'Georgia': 6,\n",
        "    'North Dakota': 14,\n",
        "    'Pennsylvania': 37,\n",
        "    'Florida': 21,\n",
        "    'Alaska': 3,\n",
        "    'Kentucky': 7,\n",
        "    'Hawaii': 78,\n",
        "    'Nebraska': 22,\n",
        "    'Missouri': 8,\n",
        "    'Iowa': 25,\n",
        "    'Alabama': 10,\n",
        "    'Rhode Island': 43,\n",
        "    'South Dakota': 5,\n",
        "    'Colorado': 30,\n",
        "    'New Jersey': 67,\n",
        "    'Washington': 41,\n",
        "    'North Carolina': 30,\n",
        "    'New York': 76,\n",
        "    'Nevada': 15,\n",
        "    'Maine': 11\n",
        "}\n",
        "laws_2016 = {\n",
        "    'Mississippi': 2,\n",
        "    'Oklahoma': 9,\n",
        "    'Delaware': 39,\n",
        "    'Minnesota': 41,\n",
        "    'Illinois': 65,\n",
        "    'Arkansas': 11,\n",
        "    'New Mexico': 10,\n",
        "    'Ohio': 16,\n",
        "    'Indiana': 12,\n",
        "    'Maryland': 64,\n",
        "    'Louisiana': 12,\n",
        "    'Texas': 18,\n",
        "    'Wyoming': 6,\n",
        "    'Tennessee': 22,\n",
        "    'Arizona': 8,\n",
        "    'Wisconsin': 23,\n",
        "    'Michigan': 21,\n",
        "    'Kansas': 4,\n",
        "    'Utah': 11,\n",
        "    'Virginia': 13,\n",
        "    'Oregon': 35,\n",
        "    'Connecticut': 90,\n",
        "    'Montana': 4,\n",
        "    'California': 104,\n",
        "    'Idaho': 2,\n",
        "    'West Virginia': 18,\n",
        "    'South Carolina': 12,\n",
        "    'New Hampshire': 10,\n",
        "    'Massachusetts': 101,\n",
        "    'Vermont': 6,\n",
        "    'Georgia': 6,\n",
        "    'North Dakota': 14,\n",
        "    'Pennsylvania': 37,\n",
        "    'Florida': 21,\n",
        "    'Alaska': 3,\n",
        "    'Kentucky': 7,\n",
        "    'Hawaii': 79,\n",
        "    'Nebraska': 22,\n",
        "    'Missouri': 7,\n",
        "    'Iowa': 25,\n",
        "    'Alabama': 10,\n",
        "    'Rhode Island': 43,\n",
        "    'South Dakota': 5,\n",
        "    'Colorado': 30,\n",
        "    'New Jersey': 67,\n",
        "    'Washington': 43,\n",
        "    'North Carolina': 30,\n",
        "    'New York': 76,\n",
        "    'Nevada': 15,\n",
        "    'Maine': 11\n",
        "}\n",
        "laws_2017 = {\n",
        "    'Mississippi': 2,\n",
        "    'Oklahoma': 9,\n",
        "    'Delaware': 40,\n",
        "    'Minnesota': 41,\n",
        "    'Illinois': 65,\n",
        "    'Arkansas': 11,\n",
        "    'New Mexico': 10,\n",
        "    'Ohio': 16,\n",
        "    'Indiana': 12,\n",
        "    'Maryland': 64,\n",
        "    'Louisiana': 13,\n",
        "    'Texas': 18,\n",
        "    'Wyoming': 6,\n",
        "    'Tennessee': 22,\n",
        "    'Arizona': 8,\n",
        "    'Wisconsin': 23,\n",
        "    'Michigan': 21,\n",
        "    'Kansas': 4,\n",
        "    'Utah': 13,\n",
        "    'Virginia': 13,\n",
        "    'Oregon': 35,\n",
        "    'Connecticut': 90,\n",
        "    'Montana': 4,\n",
        "    'California': 106,\n",
        "    'Idaho': 2,\n",
        "    'West Virginia': 18,\n",
        "    'South Carolina': 12,\n",
        "    'New Hampshire': 9,\n",
        "    'Massachusetts': 101,\n",
        "    'Vermont': 6,\n",
        "    'Georgia': 6,\n",
        "    'North Dakota': 10,\n",
        "    'Pennsylvania': 37,\n",
        "    'Florida': 21,\n",
        "    'Alaska': 3,\n",
        "    'Kentucky': 7,\n",
        "    'Hawaii': 79,\n",
        "    'Nebraska': 22,\n",
        "    'Missouri': 2,\n",
        "    'Iowa': 24,\n",
        "    'Alabama': 10,\n",
        "    'Rhode Island': 53,\n",
        "    'South Dakota': 5,\n",
        "    'Colorado': 30,\n",
        "    'New Jersey': 75,\n",
        "    'Washington': 43,\n",
        "    'North Carolina': 30,\n",
        "    'New York': 76,\n",
        "    'Nevada': 21,\n",
        "    'Maine': 11\n",
        "}\n",
        "\n",
        "y1, y2, y3, y4 = [], [], [], []\n",
        "x1 = []\n",
        "for x, y in laws_2014.items():\n",
        "    y1.append(y)\n",
        "    y2.append(laws_2015[x])\n",
        "    y3.append(laws_2016[x])\n",
        "    y4.append(laws_2017[x])\n",
        "    x1.append(x)\n",
        "law = pd.DataFrame({'2014': y1, '2015': y2, '2016': y3, '2017': y4}, index=x1)\n",
        "law.plot(kind='bar', figsize=(20, 10))\n",
        "plt.grid(False)\n",
        "plt.title('Year wise review of laws', fontsize=20)\n",
        "plt.xlabel('State', fontsize=15)\n",
        "plt.ylabel('Number of Laws', fontsize=15);"
      ]
    },
    {
      "cell_type": "markdown",
      "metadata": {
        "id": "MEyAB_06fzCQ"
      },
      "source": [
        "Government is taking action towards those incidents in the California we can see that year wise there is growth in the laws.\n",
        "Which is the proof of strictness in terms of security of the people"
      ]
    },
    {
      "cell_type": "markdown",
      "metadata": {
        "id": "fTxzwUjVfzCR"
      },
      "source": [
        "<hr>"
      ]
    },
    {
      "cell_type": "markdown",
      "metadata": {
        "id": "lmpetZ57fzCR"
      },
      "source": [
        "Thank you so much for your time."
      ]
    },
    {
      "cell_type": "code",
      "execution_count": null,
      "metadata": {
        "id": "sW6PTDdyfzCS"
      },
      "outputs": [],
      "source": [
        "df.groupby('city_or_county').sum()"
      ]
    },
    {
      "cell_type": "code",
      "execution_count": null,
      "metadata": {
        "id": "7myLdCtFfzCS"
      },
      "outputs": [],
      "source": [
        ""
      ]
    },
    {
      "cell_type": "code",
      "execution_count": null,
      "metadata": {
        "id": "cotTOBA_fzCS"
      },
      "outputs": [],
      "source": [
        ""
      ]
    }
  ],
  "metadata": {
    "colab": {
      "collapsed_sections": [],
      "name": "GunViolenceData.ipynb",
      "provenance": [],
      "include_colab_link": true
    },
    "kernelspec": {
      "display_name": "Python 3 (ipykernel)",
      "language": "python",
      "name": "python3"
    },
    "language_info": {
      "codemirror_mode": {
        "name": "ipython",
        "version": 3
      },
      "file_extension": ".py",
      "mimetype": "text/x-python",
      "name": "python",
      "nbconvert_exporter": "python",
      "pygments_lexer": "ipython3",
      "version": "3.8.12"
    },
    "toc": {
      "base_numbering": 1,
      "nav_menu": {},
      "number_sections": true,
      "sideBar": true,
      "skip_h1_title": false,
      "title_cell": "Table of Contents",
      "title_sidebar": "Contents",
      "toc_cell": false,
      "toc_position": {},
      "toc_section_display": true,
      "toc_window_display": false
    },
    "varInspector": {
      "cols": {
        "lenName": 16,
        "lenType": 16,
        "lenVar": 40
      },
      "kernels_config": {
        "python": {
          "delete_cmd_postfix": "",
          "delete_cmd_prefix": "del ",
          "library": "var_list.py",
          "varRefreshCmd": "print(var_dic_list())"
        },
        "r": {
          "delete_cmd_postfix": ") ",
          "delete_cmd_prefix": "rm(",
          "library": "var_list.r",
          "varRefreshCmd": "cat(var_dic_list()) "
        }
      },
      "types_to_exclude": [
        "module",
        "function",
        "builtin_function_or_method",
        "instance",
        "_Feature"
      ],
      "window_display": false
    }
  },
  "nbformat": 4,
  "nbformat_minor": 0
}